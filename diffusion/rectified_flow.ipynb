{
  "nbformat": 4,
  "nbformat_minor": 0,
  "metadata": {
    "colab": {
      "provenance": [],
      "gpuType": "T4"
    },
    "kernelspec": {
      "name": "python3",
      "display_name": "Python 3"
    },
    "language_info": {
      "name": "python"
    },
    "accelerator": "GPU"
  },
  "cells": [
    {
      "cell_type": "markdown",
      "source": [
        "This document is a colab. To open it, follow this link -> <a target=\"_blank\" href=\"https://colab.research.google.com/github/eemlcommunity/PracticalSessions2023/blob/main/diffusion/rectified_flow.ipynb\">\n",
        "  <img src=\"https://colab.research.google.com/assets/colab-badge.svg\" alt=\"Open In Colab\"/>\n",
        "</a>"
      ],
      "metadata": {
        "id": "evh6ZSpqmkVh"
      }
    },
    {
      "cell_type": "markdown",
      "source": [
        "# Rectified Flows\n",
        "\n",
        "In this tutorial, we'll focus on [Rectified Flows (RFs)](https://arxiv.org/abs/2209.03003).\n",
        "\n",
        "In general, RFs or [Flow Matching models](https://arxiv.org/abs/2210.02747) are closer to [Neural ODEs](https://arxiv.org/abs/1806.07366) and [continuous-time flows](https://arxiv.org/abs/1709.01179).\n",
        "\n",
        "However, their certain instantiations fit well into the framework of Gaussian diffusion models, and this is how we will view RFs here."
      ],
      "metadata": {
        "id": "raIbO4zi13ia"
      }
    },
    {
      "cell_type": "markdown",
      "source": [
        "# Installs, imports, and utils"
      ],
      "metadata": {
        "id": "RExUrGYdq1mv"
      }
    },
    {
      "cell_type": "code",
      "source": [
        "!pip install -q git+https://github.com/deepmind/dm-haiku"
      ],
      "metadata": {
        "colab": {
          "base_uri": "https://localhost:8080/"
        },
        "id": "rKY4KDfkqzY3",
        "outputId": "b701e2cc-0f76-43b4-f4f1-3c08edfcb015"
      },
      "execution_count": 1,
      "outputs": [
        {
          "output_type": "stream",
          "name": "stdout",
          "text": [
            "  Preparing metadata (setup.py) ... \u001b[?25l\u001b[?25hdone\n",
            "  Building wheel for dm-haiku (setup.py) ... \u001b[?25l\u001b[?25hdone\n"
          ]
        }
      ]
    },
    {
      "cell_type": "code",
      "source": [
        "from typing import Optional, Callable, Sequence\n",
        "import functools\n",
        "import jax\n",
        "import optax\n",
        "import dataclasses\n",
        "import numpy as np\n",
        "import haiku as hk\n",
        "import jax.numpy as jnp\n",
        "import matplotlib.pyplot as plt\n",
        "import pandas as pd\n",
        "import tensorflow_datasets as tfds\n",
        "import tensorflow as tf"
      ],
      "metadata": {
        "id": "A-a9MWLVGFES"
      },
      "execution_count": 2,
      "outputs": []
    },
    {
      "cell_type": "code",
      "source": [
        "def bcast_right(x: jax.Array, ndim: int) -> jax.Array:\n",
        "    \"\"\"Util function for broadcasting to the right.\"\"\"\n",
        "    if x.ndim > ndim:\n",
        "      raise ValueError(f'Cannot broadcast a value with {x.ndim} dims to {ndim} dims.')\n",
        "    elif x.ndim < ndim:\n",
        "      difference = ndim - x.ndim\n",
        "      return x.reshape(x.shape + difference * (1,))\n",
        "    else:\n",
        "      return x"
      ],
      "metadata": {
        "id": "rPbzZH_PsiTL"
      },
      "execution_count": 3,
      "outputs": []
    },
    {
      "cell_type": "markdown",
      "source": [
        "# Toy 2D data"
      ],
      "metadata": {
        "id": "0JZFp63TOY5-"
      }
    },
    {
      "cell_type": "code",
      "source": [
        "def create_checkerboard_data(num_datapoints: int, rng_seed: int = 42) -> np.ndarray:\n",
        "  \"\"\"Checkerboard dataset.\"\"\"\n",
        "  rng = np.random.RandomState(rng_seed)\n",
        "  x1 = rng.rand(num_datapoints) * 4 - 2\n",
        "  x2 = rng.rand(num_datapoints) - rng.randint(0, 2, [num_datapoints]) * 2. + np.floor(x1) % 2\n",
        "  data = np.stack([x1, x2]).T * 2\n",
        "  data = (data - data.mean(axis=0)) / data.std(axis=0) # normalize\n",
        "  return data.astype(np.float32)\n",
        "\n",
        "\n",
        "def dataset_iterator(data: np.ndarray, batch_size: int, rng_seed: int=42):\n",
        "  \"\"\" TF dataset iterator.\"\"\"\n",
        "  train_dataset = tf.data.Dataset.from_tensor_slices(tf.constant(data, tf.float32))\n",
        "  train_dataset = train_dataset.shuffle(buffer_size=10000)\n",
        "  train_dataset = train_dataset.repeat()\n",
        "  train_dataset = train_dataset.batch(batch_size, drop_remainder=True)\n",
        "  train_dataset = tfds.as_numpy(train_dataset)\n",
        "  return iter(train_dataset)\n",
        "\n",
        "\n",
        "train_data = create_checkerboard_data(1000000)\n",
        "train_data_iter = dataset_iterator(train_data, batch_size=2048)\n"
      ],
      "metadata": {
        "id": "toCKGJWcHRue"
      },
      "execution_count": 4,
      "outputs": []
    },
    {
      "cell_type": "code",
      "source": [
        "def plot_data(data: np.ndarray):\n",
        "  plt.figure(figsize=(3, 3))\n",
        "  plt.scatter(data[:, 0], data[:, 1], s=1, alpha=0.5)\n",
        "  plt.show()\n",
        "\n",
        "plot_data(train_data[:5000])"
      ],
      "metadata": {
        "colab": {
          "base_uri": "https://localhost:8080/",
          "height": 291
        },
        "id": "grQtpQYGLtwd",
        "outputId": "ab7a668d-49f7-4ae3-a781-bfa5195e474e"
      },
      "execution_count": 5,
      "outputs": [
        {
          "output_type": "display_data",
          "data": {
            "text/plain": [
              "<Figure size 300x300 with 1 Axes>"
            ],
            "image/png": "[encoded data removed]"
          },
          "metadata": {}
        }
      ]
    },
    {
      "cell_type": "markdown",
      "source": [
        "# Background\n",
        "\n",
        "Let's say we have two distributions: $\\pi_0$ and $\\pi_1$, which in general, can be arbitrary.\n",
        "\n",
        "Here, we will focus on a particular case where $\\pi_0$ is a data distribution and $\\pi_1 = N(0,I)$.\n",
        "\n",
        "In a Rectified Flow, we learn an ODE that would allow us to move data points from $\\pi_0$ to data points from $\\pi_1$:\n",
        "\n",
        "$$\\frac{dx_t}{dt} = v_{\\theta}(x_t, t), \\; \\text{ with } t \\in [0,1], \\text{starting from } x_0 \\sim \\pi_0 $$\n",
        "\n",
        "At $t=1$, we would like to arrive to $x_1 \\sim N(0, 1)$.\n",
        "\n",
        "What is $x_t$ in this equation?\n",
        "\n",
        "Rectified Flows construct $x_t$ as a linear interpolation between data $x_0 \\sim \\pi_0$ and  noise $x_1 = \\epsilon \\sim N(0,1)$:\n",
        "\n",
        "\\begin{equation}\n",
        "  x_t = (1-t) x_0 + t \\epsilon \\tag{1}\n",
        "\\end{equation}"
      ],
      "metadata": {
        "id": "0sAeElIHT1Q4"
      }
    },
    {
      "cell_type": "markdown",
      "source": [
        "## Rectified Flow \"forward process\"\n",
        "\n",
        "Think about similarities between Eq.(1) and the forward process in DDPM defined by the transition distribution $q(x_t|x_0) = N(x_t; \\alpha_t x_0, \\sigma_t^2 I)$. Afterwards, you should be able to implement methods `alpha(t)` and `sigma(t) `for the class below."
      ],
      "metadata": {
        "id": "LOSM7PgdPRKc"
      }
    },
    {
      "cell_type": "code",
      "source": [
        "class RectifiedFlowProcess:\n",
        "  def __init__(self):\n",
        "    self._tmin = 0.\n",
        "    self._tmax = 1.\n",
        "\n",
        "  @property\n",
        "  def tmin(self):\n",
        "    return self._tmin\n",
        "\n",
        "  @property\n",
        "  def tmax(self):\n",
        "    return self._tmax\n",
        "\n",
        "\n",
        "  def alpha(self, t: jax.Array) -> jax.Array:\n",
        "    # TODO: add your code here\n",
        "    return ...\n",
        "\n",
        "  def sigma(self, t: jax.Array) -> jax.Array:\n",
        "    # TODO: add your code here\n",
        "    return ...\n",
        "\n",
        "  def sample(self, x0: jax.Array, t: jax.Array, eps: jax.Array) -> jax.Array:\n",
        "    \"\"\"Draws samples from the forward diffusion process.\"\"\"\n",
        "    alpha_t = bcast_right(self.alpha(t), x0.ndim)\n",
        "    sigma_t = bcast_right(self.sigma(t), x0.ndim)\n",
        "    return alpha_t * x0 + sigma_t * eps"
      ],
      "metadata": {
        "id": "28aB_YurPSnJ"
      },
      "execution_count": 6,
      "outputs": []
    },
    {
      "cell_type": "markdown",
      "source": [
        "### Visualize RF process properties\n",
        "\n",
        "Compare the plots below to those of DDPM.\n",
        "\n",
        "In RFs, we move at a constant speed between a clean image and a Gaussian noise.\n",
        "\n",
        "This results in more gradual noising compared to the DDPM's noise schedule."
      ],
      "metadata": {
        "id": "FBgImXI9ZNjJ"
      }
    },
    {
      "cell_type": "code",
      "source": [
        "process = RectifiedFlowProcess()\n",
        "ts = np.linspace(process.tmin, process.tmax, 1000)\n",
        "\n",
        "fig, ax = plt.subplots(1, 2, figsize=(4 * 2, 2))\n",
        "\n",
        "# plot how alpha and sigma change over time\n",
        "ax[0].plot(ts, process.sigma(ts), label=r'$\\sigma$')\n",
        "ax[0].plot(ts, process.alpha(ts), label=r'$\\alpha$')\n",
        "ax[0].set_xlabel('time')\n",
        "ax[0].legend()\n",
        "\n",
        "# It is often helpful to reason in terms of signal-to-noise ratio:\n",
        "# SNR = alpha(t)^2 / sigma(t)^2 or more conveniently, its logarithm.\n",
        "# High SNR = little noise, low SNR = a lot of noise.\n",
        "lambda_ = [2. * np.log(process.alpha(t) / process.sigma(t)) for t in ts[1:-1]]\n",
        "ax[1].plot(ts[1:-1], lambda_, c='g', label=r'$log SNR$')\n",
        "ax[1].set_xlabel('time')\n",
        "ax[1].legend()\n",
        "\n",
        "plt.show()"
      ],
      "metadata": {
        "colab": {
          "base_uri": "https://localhost:8080/",
          "height": 584
        },
        "id": "iVSYIdtjZM9P",
        "outputId": "e7e58332-cc43-4234-dead-c48d01be1fda"
      },
      "execution_count": 7,
      "outputs": [
        {
          "output_type": "error",
          "ename": "ValueError",
          "evalue": "ignored",
          "traceback": [
            "\u001b[0;31m---------------------------------------------------------------------------\u001b[0m",
            "\u001b[0;31mValueError\u001b[0m                                Traceback (most recent call last)",
            "\u001b[0;32m<ipython-input-7-f2e6bb8d0cdc>\u001b[0m in \u001b[0;36m<cell line: 7>\u001b[0;34m()\u001b[0m\n\u001b[1;32m      5\u001b[0m \u001b[0;34m\u001b[0m\u001b[0m\n\u001b[1;32m      6\u001b[0m \u001b[0;31m# plot how alpha and sigma change over time\u001b[0m\u001b[0;34m\u001b[0m\u001b[0;34m\u001b[0m\u001b[0m\n\u001b[0;32m----> 7\u001b[0;31m \u001b[0max\u001b[0m\u001b[0;34m[\u001b[0m\u001b[0;36m0\u001b[0m\u001b[0;34m]\u001b[0m\u001b[0;34m.\u001b[0m\u001b[0mplot\u001b[0m\u001b[0;34m(\u001b[0m\u001b[0mts\u001b[0m\u001b[0;34m,\u001b[0m \u001b[0mprocess\u001b[0m\u001b[0;34m.\u001b[0m\u001b[0msigma\u001b[0m\u001b[0;34m(\u001b[0m\u001b[0mts\u001b[0m\u001b[0;34m)\u001b[0m\u001b[0;34m,\u001b[0m \u001b[0mlabel\u001b[0m\u001b[0;34m=\u001b[0m\u001b[0;34mr'$\\sigma$'\u001b[0m\u001b[0;34m)\u001b[0m\u001b[0;34m\u001b[0m\u001b[0;34m\u001b[0m\u001b[0m\n\u001b[0m\u001b[1;32m      8\u001b[0m \u001b[0max\u001b[0m\u001b[0;34m[\u001b[0m\u001b[0;36m0\u001b[0m\u001b[0;34m]\u001b[0m\u001b[0;34m.\u001b[0m\u001b[0mplot\u001b[0m\u001b[0;34m(\u001b[0m\u001b[0mts\u001b[0m\u001b[0;34m,\u001b[0m \u001b[0mprocess\u001b[0m\u001b[0;34m.\u001b[0m\u001b[0malpha\u001b[0m\u001b[0;34m(\u001b[0m\u001b[0mts\u001b[0m\u001b[0;34m)\u001b[0m\u001b[0;34m,\u001b[0m \u001b[0mlabel\u001b[0m\u001b[0;34m=\u001b[0m\u001b[0;34mr'$\\alpha$'\u001b[0m\u001b[0;34m)\u001b[0m\u001b[0;34m\u001b[0m\u001b[0;34m\u001b[0m\u001b[0m\n\u001b[1;32m      9\u001b[0m \u001b[0max\u001b[0m\u001b[0;34m[\u001b[0m\u001b[0;36m0\u001b[0m\u001b[0;34m]\u001b[0m\u001b[0;34m.\u001b[0m\u001b[0mset_xlabel\u001b[0m\u001b[0;34m(\u001b[0m\u001b[0;34m'time'\u001b[0m\u001b[0;34m)\u001b[0m\u001b[0;34m\u001b[0m\u001b[0;34m\u001b[0m\u001b[0m\n",
            "\u001b[0;32m/usr/local/lib/python3.10/dist-packages/matplotlib/axes/_axes.py\u001b[0m in \u001b[0;36mplot\u001b[0;34m(self, scalex, scaley, data, *args, **kwargs)\u001b[0m\n\u001b[1;32m   1686\u001b[0m         \"\"\"\n\u001b[1;32m   1687\u001b[0m         \u001b[0mkwargs\u001b[0m \u001b[0;34m=\u001b[0m \u001b[0mcbook\u001b[0m\u001b[0;34m.\u001b[0m\u001b[0mnormalize_kwargs\u001b[0m\u001b[0;34m(\u001b[0m\u001b[0mkwargs\u001b[0m\u001b[0;34m,\u001b[0m \u001b[0mmlines\u001b[0m\u001b[0;34m.\u001b[0m\u001b[0mLine2D\u001b[0m\u001b[0;34m)\u001b[0m\u001b[0;34m\u001b[0m\u001b[0;34m\u001b[0m\u001b[0m\n\u001b[0;32m-> 1688\u001b[0;31m         \u001b[0mlines\u001b[0m \u001b[0;34m=\u001b[0m \u001b[0;34m[\u001b[0m\u001b[0;34m*\u001b[0m\u001b[0mself\u001b[0m\u001b[0;34m.\u001b[0m\u001b[0m_get_lines\u001b[0m\u001b[0;34m(\u001b[0m\u001b[0;34m*\u001b[0m\u001b[0margs\u001b[0m\u001b[0;34m,\u001b[0m \u001b[0mdata\u001b[0m\u001b[0;34m=\u001b[0m\u001b[0mdata\u001b[0m\u001b[0;34m,\u001b[0m \u001b[0;34m**\u001b[0m\u001b[0mkwargs\u001b[0m\u001b[0;34m)\u001b[0m\u001b[0;34m]\u001b[0m\u001b[0;34m\u001b[0m\u001b[0;34m\u001b[0m\u001b[0m\n\u001b[0m\u001b[1;32m   1689\u001b[0m         \u001b[0;32mfor\u001b[0m \u001b[0mline\u001b[0m \u001b[0;32min\u001b[0m \u001b[0mlines\u001b[0m\u001b[0;34m:\u001b[0m\u001b[0;34m\u001b[0m\u001b[0;34m\u001b[0m\u001b[0m\n\u001b[1;32m   1690\u001b[0m             \u001b[0mself\u001b[0m\u001b[0;34m.\u001b[0m\u001b[0madd_line\u001b[0m\u001b[0;34m(\u001b[0m\u001b[0mline\u001b[0m\u001b[0;34m)\u001b[0m\u001b[0;34m\u001b[0m\u001b[0;34m\u001b[0m\u001b[0m\n",
            "\u001b[0;32m/usr/local/lib/python3.10/dist-packages/matplotlib/axes/_base.py\u001b[0m in \u001b[0;36m__call__\u001b[0;34m(self, data, *args, **kwargs)\u001b[0m\n\u001b[1;32m    309\u001b[0m                 \u001b[0mthis\u001b[0m \u001b[0;34m+=\u001b[0m \u001b[0margs\u001b[0m\u001b[0;34m[\u001b[0m\u001b[0;36m0\u001b[0m\u001b[0;34m]\u001b[0m\u001b[0;34m,\u001b[0m\u001b[0;34m\u001b[0m\u001b[0;34m\u001b[0m\u001b[0m\n\u001b[1;32m    310\u001b[0m                 \u001b[0margs\u001b[0m \u001b[0;34m=\u001b[0m \u001b[0margs\u001b[0m\u001b[0;34m[\u001b[0m\u001b[0;36m1\u001b[0m\u001b[0;34m:\u001b[0m\u001b[0;34m]\u001b[0m\u001b[0;34m\u001b[0m\u001b[0;34m\u001b[0m\u001b[0m\n\u001b[0;32m--> 311\u001b[0;31m             yield from self._plot_args(\n\u001b[0m\u001b[1;32m    312\u001b[0m                 this, kwargs, ambiguous_fmt_datakey=ambiguous_fmt_datakey)\n\u001b[1;32m    313\u001b[0m \u001b[0;34m\u001b[0m\u001b[0m\n",
            "\u001b[0;32m/usr/local/lib/python3.10/dist-packages/matplotlib/axes/_base.py\u001b[0m in \u001b[0;36m_plot_args\u001b[0;34m(self, tup, kwargs, return_kwargs, ambiguous_fmt_datakey)\u001b[0m\n\u001b[1;32m    502\u001b[0m \u001b[0;34m\u001b[0m\u001b[0m\n\u001b[1;32m    503\u001b[0m         \u001b[0;32mif\u001b[0m \u001b[0mx\u001b[0m\u001b[0;34m.\u001b[0m\u001b[0mshape\u001b[0m\u001b[0;34m[\u001b[0m\u001b[0;36m0\u001b[0m\u001b[0;34m]\u001b[0m \u001b[0;34m!=\u001b[0m \u001b[0my\u001b[0m\u001b[0;34m.\u001b[0m\u001b[0mshape\u001b[0m\u001b[0;34m[\u001b[0m\u001b[0;36m0\u001b[0m\u001b[0;34m]\u001b[0m\u001b[0;34m:\u001b[0m\u001b[0;34m\u001b[0m\u001b[0;34m\u001b[0m\u001b[0m\n\u001b[0;32m--> 504\u001b[0;31m             raise ValueError(f\"x and y must have same first dimension, but \"\n\u001b[0m\u001b[1;32m    505\u001b[0m                              f\"have shapes {x.shape} and {y.shape}\")\n\u001b[1;32m    506\u001b[0m         \u001b[0;32mif\u001b[0m \u001b[0mx\u001b[0m\u001b[0;34m.\u001b[0m\u001b[0mndim\u001b[0m \u001b[0;34m>\u001b[0m \u001b[0;36m2\u001b[0m \u001b[0;32mor\u001b[0m \u001b[0my\u001b[0m\u001b[0;34m.\u001b[0m\u001b[0mndim\u001b[0m \u001b[0;34m>\u001b[0m \u001b[0;36m2\u001b[0m\u001b[0;34m:\u001b[0m\u001b[0;34m\u001b[0m\u001b[0;34m\u001b[0m\u001b[0m\n",
            "\u001b[0;31mValueError\u001b[0m: x and y must have same first dimension, but have shapes (1000,) and (1,)"
          ]
        },
        {
          "output_type": "display_data",
          "data": {
            "text/plain": [
              "<Figure size 800x200 with 2 Axes>"
            ],
            "image/png": "[encoded data removed]"
          },
          "metadata": {}
        }
      ]
    },
    {
      "cell_type": "code",
      "source": [
        "mnist = pd.read_csv('/content/sample_data/mnist_train_small.csv', header=None).to_numpy()\n",
        "img = mnist[0, 1:].reshape((28, 28))\n",
        "img = 2 * img / 255. - 1. # rescale from [0,255] to [-1,1]"
      ],
      "metadata": {
        "id": "sei2Ct0iS-UU"
      },
      "execution_count": null,
      "outputs": []
    },
    {
      "cell_type": "code",
      "source": [
        "timesteps = np.linspace(process.tmin, process.tmax, 9)\n",
        "eps = np.random.normal(size=img.shape)\n",
        "\n",
        "fig, ax = plt.subplots(1, len(timesteps) , figsize=(10 * len(timesteps), 10))\n",
        "\n",
        "for i, t in enumerate(timesteps):\n",
        "  img_t = process.sample(img, t, eps)\n",
        "  ax[i].imshow(img_t, cmap='gray')\n",
        "  ax[i].set_title(f't={t}', fontsize=50)"
      ],
      "metadata": {
        "id": "GIELxAwwT4V9"
      },
      "execution_count": null,
      "outputs": []
    },
    {
      "cell_type": "markdown",
      "source": [
        "## Vector fields\n",
        "\n",
        "\n",
        "Remember our ODE:\n",
        "\n",
        "$$\\frac{dx_t}{dt} = v_{\\theta}(x_t, t).$$\n",
        "\n",
        "If we follow this ODE from $t=0$ with $x_0 \\sim \\pi_0$, we want to arrive to $x_1 \\sim N(0,I)$ at $t=1$.\n",
        "\n",
        "If we follow it in reverse, and start from $x_1 \\sim N(0,I)$, we can obtain a solution of this ODE at $t=0$.\n",
        "\n",
        "This solution would be a sample from our Rectified Flow generative model.\n",
        "\n",
        "<br/>\n",
        "Obviously, we need to train our model to be able to do it, namely we need to learn the time-dependent vector field part  $v_{\\theta}$.\n",
        "\n",
        "As its inputs, this vector field takes timestep $t \\in [0, 1]$ and $x_t \\in \\mathbb R^d $.\n",
        "\n",
        "Given these inputs, its output is a vector in $\\mathbb R^d$\n",
        "that describes an infinitesimal change in $x_t$.\n",
        "\n",
        "<br />\n",
        "To parameterize this vector field, we can use the same architecture as we used for $\\widehat \\epsilon(x_t,t; \\theta)$ in DDPM.\n"
      ],
      "metadata": {
        "id": "GRv6F7bGJiRb"
      }
    },
    {
      "cell_type": "markdown",
      "source": [
        "## Network"
      ],
      "metadata": {
        "id": "T3sVPJprVzoY"
      }
    },
    {
      "cell_type": "code",
      "source": [
        "class ResidualMLP(hk.Module):\n",
        "  \"\"\"MLP with residual connections.\"\"\"\n",
        "\n",
        "  def __init__(\n",
        "      self,\n",
        "      n_blocks: int,\n",
        "      n_hidden: int,\n",
        "      n_out: int,\n",
        "      activation: str,\n",
        "      name: str = 'MLP',\n",
        "  ):\n",
        "    super().__init__(name=name)\n",
        "    self._n_blocks = n_blocks\n",
        "    self._n_hidden = n_hidden\n",
        "    self._n_out = n_out\n",
        "    self._activation = getattr(jax.nn, activation)\n",
        "\n",
        "\n",
        "  def __call__(self, xt: jax.Array, time: jax.Array) -> jax.Array:\n",
        "\n",
        "    x = hk.Linear(output_size=self._n_hidden)(xt)\n",
        "\n",
        "    for _ in range(self._n_blocks):\n",
        "      h = self._activation(x)\n",
        "      h = hk.Linear(output_size = self._n_hidden)(h)\n",
        "      h += hk.Linear(output_size = self._n_hidden)(time)\n",
        "      h = self._activation(h)\n",
        "      h = hk.Linear(output_size = self._n_hidden)(h)\n",
        "      x += h\n",
        "\n",
        "    outputs = hk.Linear(output_size=self._n_out, w_init=hk.initializers.Constant(0.))(x)\n",
        "\n",
        "    return outputs"
      ],
      "metadata": {
        "id": "soad9c4NWQUr"
      },
      "execution_count": null,
      "outputs": []
    },
    {
      "cell_type": "code",
      "source": [
        "class SinusoidalTimeEmbedding(hk.Module):\n",
        "  \"\"\"Time (positional) embedding as in Transformers.\"\"\"\n",
        "\n",
        "  def __init__(self, num_features: int, name: Optional[str] = None):\n",
        "    super().__init__(name=name)\n",
        "    self._num_features = num_features\n",
        "\n",
        "  def __call__(self, inputs: jax.Array) -> jax.Array:\n",
        "    assert len(inputs.shape) == 1\n",
        "    half_dim = self._num_features // 2\n",
        "    e = np.log(10000) / (half_dim - 1)\n",
        "    embedding = jnp.exp(-e * jnp.arange(half_dim))\n",
        "    # time is from 0 to 1, so we recale it to get similar time embeddings as in DDPM\n",
        "    inputs_rescaled = inputs * 1000\n",
        "    embedding = inputs_rescaled[:, None] * embedding\n",
        "    embedding = jnp.concatenate([jnp.cos(embedding), jnp.sin(embedding)], axis=-1)\n",
        "    if self._num_features % 2 == 1:\n",
        "      embedding = jnp.pad(embedding, ((0, 0), (0, 1)))\n",
        "    return embedding"
      ],
      "metadata": {
        "id": "-jU4sNLGbjQT"
      },
      "execution_count": null,
      "outputs": []
    },
    {
      "cell_type": "code",
      "source": [
        "@dataclasses.dataclass\n",
        "class NetConfig:\n",
        "  resnet_n_blocks: int = 2\n",
        "  resnet_n_hidden: int = 256\n",
        "  resnet_n_out: int = 2\n",
        "  activation: str = 'elu'\n",
        "  time_embedding_dim: int = 256\n",
        "\n",
        "\n",
        "class Net(hk.Module):\n",
        "  def __init__(self, net_config: NetConfig, name: Optional[str] = None):\n",
        "    super().__init__(name=name)\n",
        "\n",
        "    self._time_encoder = SinusoidalTimeEmbedding(net_config.time_embedding_dim)\n",
        "    self._predictor = ResidualMLP(n_blocks=net_config.resnet_n_blocks,\n",
        "                                  n_hidden = net_config.resnet_n_hidden,\n",
        "                                  n_out = net_config.resnet_n_out,\n",
        "                                  activation = net_config.activation)\n",
        "\n",
        "  def __call__(self, noisy_data: jax.Array, time: jax.Array) -> jax.Array:\n",
        "    time_embedding = self._time_encoder(time)\n",
        "    outputs = self._predictor(noisy_data, time_embedding)\n",
        "    return outputs"
      ],
      "metadata": {
        "id": "QycoGF3Pah4M"
      },
      "execution_count": null,
      "outputs": []
    },
    {
      "cell_type": "markdown",
      "source": [
        "## Objective function\n",
        "\n",
        "Given a sample $x_0 \\sim \\pi_0$ and a sample $x_1 \\sim N(0,I)$, the simplest ODE that takes us from one to another is straight line:\n",
        "\n",
        "$$\\frac{dx_t}{dt} = x_1-x_0, $$\n",
        "\n",
        "which corresponds to the time derivative of $x_t$ in the forward process from Eq.(1).\n",
        "\n",
        "To train our model $v_{\\theta}$, we can make it match these straight trajectories that are conditioned on the end points.\n",
        "\n",
        "We can write the resulting loss as:\n",
        "\n",
        "$$ \\mathbb E_{x_0 \\sim \\pi_0, \\; x_1 \\sim N(0, I), \\; t\\sim U(0, 1)}|| v_{\\theta}(x_t, t) - (x_1-x_0) ||^2  $$\n"
      ],
      "metadata": {
        "id": "LW8h2RRvKI1X"
      }
    },
    {
      "cell_type": "markdown",
      "source": [
        "## Time sampler\n",
        "Implement this simple one-line sampler from a standard uniform distribution."
      ],
      "metadata": {
        "id": "5bLx92hqJJ5z"
      }
    },
    {
      "cell_type": "code",
      "source": [
        "class UniformTimeSampler:\n",
        "  def __init__(self, tmin: float = 0., tmax: float=1.):\n",
        "    self._tmin = tmin\n",
        "    self._tmax = tmax\n",
        "\n",
        "  def sample(self, key: jax.Array, shape: Sequence[int]) -> jax.Array:\n",
        "    # TODO: add your code here\n",
        "    return ..."
      ],
      "metadata": {
        "id": "ZrcoJv8LJHny"
      },
      "execution_count": null,
      "outputs": []
    },
    {
      "cell_type": "markdown",
      "source": [
        "# Full Rectified Flow model\n",
        "\n",
        "Please fill in the implementation of the loss function in `loss` and `loss_per_timesteps` methods.\n",
        "\n",
        "</br>\n",
        "\n",
        "For sampling, we need to get the solution to our ODE at $t=0$.\n",
        "\n",
        "Please implement one step of the Euler method: `body_fn` inside `sample`.\n"
      ],
      "metadata": {
        "id": "hgliQGjukUwO"
      }
    },
    {
      "cell_type": "code",
      "source": [
        "class DiffusionModel:\n",
        "  \"\"\"Rectified Flow model implemented as a DiffusionModel class.\"\"\"\n",
        "\n",
        "  def __init__(self, diffusion_process: RectifiedFlowProcess,\n",
        "               time_sampler: UniformTimeSampler,\n",
        "               net_config: NetConfig,\n",
        "               data_shape: tuple[int, ...]):\n",
        "    super().__init__()\n",
        "\n",
        "    self._process = diffusion_process\n",
        "    self._time_sampler = time_sampler\n",
        "    self._net_config = net_config\n",
        "    self._data_shape = data_shape\n",
        "\n",
        "    # don't worry about this haiku stuff.\n",
        "    # the important bit is to get two pure functions:\n",
        "    # net_init(rng_key, noisy_data, time) and net_apply(params, noisy_data, time)\n",
        "    # so that afterwards we can use only jax\n",
        "    def net_fwd(x, t):\n",
        "      net = Net(net_config)\n",
        "      return net(x, t)\n",
        "\n",
        "    self.net_init, self.net_apply = hk.without_apply_rng(hk.transform(net_fwd))\n",
        "\n",
        "  def init(self, rng_key: jax.Array, x0: jax.Array) -> hk.Params:\n",
        "    time = jnp.zeros((x0.shape[0],))\n",
        "    params = self.net_init(rng_key, x0, time)\n",
        "    return params\n",
        "\n",
        "\n",
        "  @functools.partial(jax.jit, static_argnums=(0,))\n",
        "  def loss(self, params: hk.Params, rng_key: jax.Array, x0: jax.Array) -> jax.Array:\n",
        "    \"\"\"Computes MSE between the conditional vector field (x1 - x0) and a vector field given by our neural net.\"\"\"\n",
        "\n",
        "    subkey_eps, subkey_t = jax.random.split(rng_key)\n",
        "\n",
        "    t = self._time_sampler.sample(key=subkey_t, shape=(x0.shape[0],)) # sample time\n",
        "\n",
        "    eps = jax.random.normal(key=subkey_eps, shape=x0.shape) # sample noise\n",
        "\n",
        "    xt = self._process.sample(x0, t, eps) # corrupt the data\n",
        "\n",
        "    net_outputs = self.net_apply(params, xt, t) # get net outputs\n",
        "\n",
        "    # TODO: implement the loss here\n",
        "    loss = ...\n",
        "\n",
        "    return loss\n",
        "\n",
        "\n",
        "  @functools.partial(jax.jit, static_argnums=(0,))\n",
        "  def loss_per_timesteps(self, params: hk.Params, x0: jax.Array, eps: jax.Array, timesteps: jax.Array) -> jax.Array:\n",
        "    \"\"\" Computes loss values at given timesteps.\"\"\"\n",
        "    losses = []\n",
        "    for t in timesteps:\n",
        "      t = t * jnp.ones((x0.shape[0],), dtype=jnp.int32)\n",
        "      xt = self._process.sample(x0, t, eps)\n",
        "      net_outputs = self.net_apply(params, xt, t)\n",
        "\n",
        "      # TODO: implement the loss here as well\n",
        "      loss = ...\n",
        "\n",
        "      losses.append(loss)\n",
        "\n",
        "    return jnp.asarray(losses)\n",
        "\n",
        "  @functools.partial(jax.jit, static_argnums=(0,3,4))\n",
        "  def sample(self, params: hk.Params, rng_key: jax.Array, n_samples: int, n_steps: int = 100) -> jax.Array:\n",
        "    \"\"\"Sampling is done by solving the ODE using Euler method.\n",
        "\n",
        "      dx/dt = v(x(t), t) with x(1) ~ N(0,1),\n",
        "      and we want to get a solution at t=0.\n",
        "    \"\"\"\n",
        "\n",
        "    v = functools.partial(self.net_apply, params)\n",
        "\n",
        "    timesteps = jnp.linspace(self._process.tmin, self._process.tmax, n_steps)\n",
        "    # we solve the ODE from noise at t=1 to data at t=0\n",
        "    timesteps = timesteps[::-1]\n",
        "\n",
        "    # x_init is the noise at t=1\n",
        "    x_init = jax.random.normal(key=rng_key, shape=(n_samples,) + self._data_shape)\n",
        "\n",
        "    def body_fn(step: int, xt: jax.Array) -> jax.Array:\n",
        "      # TODO:\n",
        "      # read about Euler method: https://en.wikipedia.org/wiki/Euler_method\n",
        "      # and implement one step of it.\n",
        "      #\n",
        "      # If you ever forget how Euler method works, write dx and dt explicitly:\n",
        "      # dx/dt = v(x(t), t)\n",
        "      # -> (x_next - x_prev) / (t_next - t_prev) = v(x_prev, t)\n",
        "      # and we want x_next.\n",
        "      return ...\n",
        "\n",
        "    return jax.lax.fori_loop(0, n_steps - 1, body_fn, x_init)\n"
      ],
      "metadata": {
        "id": "g_6broc3kXpV"
      },
      "execution_count": null,
      "outputs": []
    },
    {
      "cell_type": "markdown",
      "source": [
        "# Training"
      ],
      "metadata": {
        "id": "4BZfLV75jp85"
      }
    },
    {
      "cell_type": "code",
      "source": [
        "# create the model\n",
        "diffusion_process = RectifiedFlowProcess()\n",
        "time_sampler = UniformTimeSampler()\n",
        "model = DiffusionModel(diffusion_process, time_sampler, net_config=NetConfig(), data_shape=(2,))\n",
        "\n",
        "# initialize model parameters\n",
        "x0_init = next(train_data_iter)\n",
        "rng_key = jax.random.PRNGKey(42)\n",
        "params = model.init(rng_key, x0_init)\n",
        "num_parameters = hk.data_structures.tree_size(params)\n",
        "print(f'Num. params: {num_parameters:,}')"
      ],
      "metadata": {
        "id": "7JpbxJCgj6Zr"
      },
      "execution_count": null,
      "outputs": []
    },
    {
      "cell_type": "code",
      "source": [
        "#@title Optimizer\n",
        "training_steps = 50_000 # @param\n",
        "\n",
        "optimizer = optax.chain(\n",
        "  optax.clip_by_global_norm(max_norm=1),\n",
        "  optax.scale_by_adam(),\n",
        "  optax.scale_by_schedule(\n",
        "            optax.warmup_cosine_decay_schedule(\n",
        "                init_value=0.,\n",
        "                peak_value=3e-4,\n",
        "                warmup_steps=1000,\n",
        "                decay_steps=training_steps,\n",
        "                end_value=1e-5,\n",
        "            )\n",
        "        ),\n",
        "  optax.scale(-1.0))\n",
        "\n",
        "opt_state = optimizer.init(params)"
      ],
      "metadata": {
        "id": "Vs0iVaWr2hze"
      },
      "execution_count": null,
      "outputs": []
    },
    {
      "cell_type": "code",
      "source": [
        "#@title Update function\n",
        "\n",
        "@jax.jit\n",
        "def update(params: hk.Params, opt_state: optax.OptState, rng_key: jax.Array, x0_batch: jax.Array):\n",
        "  rng_key, next_rng_key = jax.random.split(rng_key)\n",
        "\n",
        "  # evaluate loss for a given batch and params, and compute the gradients\n",
        "  loss_value, gradients = jax.value_and_grad(model.loss)(params, rng_key, x0_batch)\n",
        "\n",
        "  # compute Adam updates and new optimizer state\n",
        "  updates, new_opt_state = optimizer.update(gradients, opt_state)\n",
        "\n",
        "  # update params\n",
        "  new_params = optax.apply_updates(params, updates)\n",
        "\n",
        "  return loss_value, (new_params, new_opt_state, next_rng_key)"
      ],
      "metadata": {
        "id": "MlDo0D8md7Ji"
      },
      "execution_count": null,
      "outputs": []
    },
    {
      "cell_type": "code",
      "source": [
        "#@title Validation dataset\n",
        "\n",
        "valid_data = create_checkerboard_data(10000, rng_seed=24) # generate some validation data\n",
        "\n",
        "# fix the noise so that the validation loss is deterministic\n",
        "rng_key, subkey = jax.random.split(rng_key)\n",
        "valid_eps = jax.random.normal(key=subkey, shape=valid_data.shape)\n",
        "\n",
        "# we will evaluate the loss on a fixed set of timesteps\n",
        "valid_timesteps = jnp.linspace(diffusion_process.tmin, diffusion_process.tmax, 25)"
      ],
      "metadata": {
        "id": "vVU988LX7U24"
      },
      "execution_count": null,
      "outputs": []
    },
    {
      "cell_type": "code",
      "source": [
        "#@title Training loop\n",
        "\n",
        "for step in range(training_steps):\n",
        "  x0_batch = next(train_data_iter)\n",
        "  loss_value, (params, opt_state, rng_key) = update(params, opt_state, rng_key, x0_batch)\n",
        "\n",
        "  if step % 1000 == 0:\n",
        "    mean_loss_per_timesteps = np.mean(model.loss_per_timesteps(params, valid_data, valid_eps, valid_timesteps))\n",
        "    print(f'step: {step}, validation loss: {mean_loss_per_timesteps:.5f}')\n",
        "\n",
        "  if step % 10000 == 0:\n",
        "    samples = model.sample(params, rng_key, 10000)\n",
        "    plot_data(samples)"
      ],
      "metadata": {
        "id": "zv0PZa0EcGZI"
      },
      "execution_count": null,
      "outputs": []
    },
    {
      "cell_type": "code",
      "source": [
        "#@title Samples after training\n",
        "samples = model.sample(params, rng_key, 10000)\n",
        "plot_data(samples)"
      ],
      "metadata": {
        "id": "C6Q0AgJTAhMZ"
      },
      "execution_count": null,
      "outputs": []
    },
    {
      "cell_type": "markdown",
      "source": [
        "## Visualize loss-per-timestep"
      ],
      "metadata": {
        "id": "9eL-SgQkorW6"
      }
    },
    {
      "cell_type": "code",
      "source": [
        "loss_per_timestep = model.loss_per_timesteps(params, valid_data, valid_eps, valid_timesteps)\n",
        "plt.figure(figsize=(4, 2))\n",
        "plt.plot(valid_timesteps, loss_per_timestep)\n",
        "plt.scatter(valid_timesteps, loss_per_timestep)\n",
        "plt.xlabel('Time', fontsize=16)\n",
        "plt.ylabel('Loss', fontsize=16)\n",
        "plt.show()"
      ],
      "metadata": {
        "id": "MbiX2vO_dw10"
      },
      "execution_count": null,
      "outputs": []
    },
    {
      "cell_type": "markdown",
      "source": [
        "## Visualize vector fields\n"
      ],
      "metadata": {
        "id": "n7L9j-RIcPEY"
      }
    },
    {
      "cell_type": "code",
      "source": [
        "timesteps = np.linspace(process.tmin, process.tmax, 9)\n",
        "fig, ax = plt.subplots(1, 9 , figsize=(90, 10))\n",
        "for i, t in enumerate(timesteps):\n",
        "  x_dim0, x_dim1 = np.meshgrid(np.linspace(-3., 3., 20), np.linspace(-3., 3., 20))\n",
        "  x = np.stack((x_dim0.flatten(), x_dim1.flatten())).T\n",
        "  vf = model.net_apply(params, x, t * jnp.ones((x.shape[0],), dtype=jnp.int32))\n",
        "  color = np.hypot(vf[:, 0], vf[:, 1]) # hypotenuse, longer vectors will be yellower\n",
        "  ax[i].quiver(x[:, 0], x[:, 1], vf[:, 0], vf[:, 1], color, width=0.007)\n",
        "  ax[i].set_title(f't = {t}', fontsize=50)\n",
        "plt.show()"
      ],
      "metadata": {
        "id": "DfQpFbp8cN7W"
      },
      "execution_count": null,
      "outputs": []
    },
    {
      "cell_type": "markdown",
      "source": [
        "By looking at the loss-per-timestep and these vector fields, what do you think RF learned to predict at t=0 and t=1? Can you compute network predictions and verify your hypothesis (requires some hacking of `DiffusionModel`)?\n",
        "\n",
        "Note that whatever your conclusion is, it might be valid only for this toy example but not for the general case."
      ],
      "metadata": {
        "id": "zVnLe3ZCIv8c"
      }
    }
  ]
}