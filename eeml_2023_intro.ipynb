{
 "cells": [
  {
   "cell_type": "markdown",
   "metadata": {
    "id": "X8yw_hrKYuL6"
   },
   "source": [
    "# Introduction to Colab, JAX, haiku\n",
    "\n",
    "Authors: Pavol Drotar\n",
    "\n",
    "Adopted from: David Szepesvari, Viorica Patraucean\n",
    "\n",
    "Contact: pavol.drotar3@gmail.com"
   ]
  },
  {
   "cell_type": "markdown",
   "metadata": {
    "id": "lsr0IKnOYEUi"
   },
   "source": [
    "## What is Colab?\n",
    "\n",
    "[Colaboratory](https://colab.sandbox.google.com/notebooks/welcome.ipynb) is a [Jupyter](http://jupyter.org/) notebook environment that requires no setup to use. It allows you to create and share documents that contain\n",
    "\n",
    "* Live, runnable code\n",
    "* Visualizations\n",
    "* Explanatory text\n",
    "\n",
    "It's also a great tool for prototyping and quick development. Let's give it a try."
   ]
  },
  {
   "cell_type": "markdown",
   "metadata": {
    "id": "wZjpiZSDYJ1R"
   },
   "source": [
    "Run the following *(Code) Cell* hitting **`Shift + Enter`** inside it."
   ]
  },
  {
   "cell_type": "code",
   "execution_count": null,
   "metadata": {
    "id": "VIRY1OxWYNED"
   },
   "outputs": [],
   "source": [
    "print('Hello EEML!')"
   ]
  },
  {
   "cell_type": "markdown",
   "metadata": {
    "id": "okXieYk8YSZ5"
   },
   "source": [
    "You should see the `Hello EEML!` printed under the code."
   ]
  },
  {
   "cell_type": "markdown",
   "metadata": {
    "id": "xXzTe0-8Yk12"
   },
   "source": [
    "### Using a GPU\n",
    "\n",
    "Code is running on a VM and results are sent to your browser. You can connect to a VM with a GPU using:\n",
    "\n",
    "* **Runtime > Change runtime type**\n",
    "* **Hardware Accelerator > GPU**\n"
   ]
  },
  {
   "cell_type": "markdown",
   "metadata": {
    "id": "USfPlwlyY0oK"
   },
   "source": [
    "### Losing Connection\n",
    "\n",
    "You may lose connection to your virtual machine. The two most common causes are\n",
    "\n",
    "* Virtual machines are recycled when idle for a while, and have a maximum lifetime enforced by the system.\n",
    "* Long-running background computations, particularly on GPUs, may be stopped.\n",
    "\n",
    "**If you lose connection**, the state of your notebook will also be lost. You will need to **rerun all cells** up to the one you are currently working on. To do so\n",
    "\n",
    "1. Select (place the cursor into) the cell you are working on.\n",
    "2. Follow **Runtime > Run before**."
   ]
  },
  {
   "cell_type": "markdown",
   "metadata": {
    "id": "oWgJEOspaQA_"
   },
   "source": [
    "### Pretty Printing by colab\n",
    "1) If the **last operation** of a given cell returns a value, it will be pretty printed by colab.\n"
   ]
  },
  {
   "cell_type": "code",
   "execution_count": null,
   "metadata": {
    "id": "ttk-hcG2aT7M"
   },
   "outputs": [],
   "source": [
    "6 * 7"
   ]
  },
  {
   "cell_type": "code",
   "execution_count": null,
   "metadata": {
    "id": "C8hMw-vRaXP1"
   },
   "outputs": [],
   "source": [
    "my_dict = {'one': 1, 'some set': {4, 2, 2}, 'a regular list': range(5)}"
   ]
  },
  {
   "cell_type": "markdown",
   "metadata": {
    "id": "CNs8mVyYaa-n"
   },
   "source": [
    "There is no output from the second cell, as assignment does not return anything."
   ]
  },
  {
   "cell_type": "markdown",
   "metadata": {
    "id": "Yg4BV2bXaeqT"
   },
   "source": [
    "2) You can explicitly **print** anything before the last operation, or **suppress** the output of the last operation by adding a semicolon."
   ]
  },
  {
   "cell_type": "code",
   "execution_count": null,
   "metadata": {
    "id": "mn0aHa_pajOT"
   },
   "outputs": [],
   "source": [
    "print(my_dict)\n",
    "my_dict['one'] * 10 + 1;"
   ]
  },
  {
   "cell_type": "markdown",
   "metadata": {
    "id": "BFVpqvB-ZTot"
   },
   "source": [
    "### Scoping and Execution Model"
   ]
  },
  {
   "cell_type": "markdown",
   "metadata": {
    "id": "AdeQn9ExapJM"
   },
   "source": [
    "Notice that in the previous code cell we worked with `my_dict`, while it was defined in an even earlier cell.\n",
    "\n",
    "1) In colabs, variables defined at cell root have **global** scope.\n",
    "\n",
    "Modify `my_dict`:"
   ]
  },
  {
   "cell_type": "code",
   "execution_count": null,
   "metadata": {
    "id": "wx4_0k3Ka6KR"
   },
   "outputs": [],
   "source": [
    "my_dict['I\\'ve been changed!'] = True"
   ]
  },
  {
   "cell_type": "markdown",
   "metadata": {
    "id": "XsXP0Spya_NG"
   },
   "source": [
    "2) Cells can be **run** in any **arbitrary order**, and global state is maintained between them.\n",
    "\n",
    "Try re-running the cell where we printed `my_dict`. You should now see the additional item `\"I've been changed!\": True`."
   ]
  },
  {
   "cell_type": "markdown",
   "metadata": {
    "id": "vFofwmqAZP6s"
   },
   "source": [
    "3) Unintentionally reusing a global variable can lead to bugs. If all else fails, you can uncomment and run the following line to **clear all global variables** and run again all the cells."
   ]
  },
  {
   "cell_type": "code",
   "execution_count": null,
   "metadata": {
    "id": "ugbgF-kCZoE-"
   },
   "outputs": [],
   "source": [
    "# %reset -f"
   ]
  },
  {
   "cell_type": "markdown",
   "metadata": {
    "id": "KhJyhbFHx8el"
   },
   "source": [
    "### IPython magic\n",
    " The function above was prefixed with `%`. These are called IPython magic functions and apply to a single line. Cell magics work on entire cells and are prefixed with double `%%`."
   ]
  },
  {
   "cell_type": "code",
   "execution_count": null,
   "metadata": {
    "id": "a0g3xzTUy9Yg"
   },
   "outputs": [],
   "source": [
    "# You can use %timeit to time lines or cells\n",
    "%timeit [n ** 2 for n in range(100)]"
   ]
  },
  {
   "cell_type": "code",
   "execution_count": null,
   "metadata": {
    "id": "iBKtFYp2zJ3A"
   },
   "outputs": [],
   "source": [
    "%%time\n",
    "s = 0\n",
    "for i in range(100):\n",
    "  s = s + i\n",
    "print(s)"
   ]
  },
  {
   "cell_type": "code",
   "execution_count": null,
   "metadata": {
    "id": "w5Qx1tl3z02u"
   },
   "outputs": [],
   "source": [
    "# use %magic to get information about available magic commands\n",
    "%magic"
   ]
  },
  {
   "cell_type": "markdown",
   "metadata": {
    "id": "TRWQOmFKbSNW"
   },
   "source": [
    "### Setup and Imports\n",
    "\n",
    "Python packages can and need to be imported into your colab notebook, the same way you would import them in a python script. For example, to use `numpy`, you would do"
   ]
  },
  {
   "cell_type": "code",
   "execution_count": null,
   "metadata": {
    "id": "oLiqqd44bg3B"
   },
   "outputs": [],
   "source": [
    "# import numpy as np"
   ]
  },
  {
   "cell_type": "markdown",
   "metadata": {
    "id": "E9_Kj04gbXsf"
   },
   "source": [
    "While many packages can just be imported, some (e.g. `haiku`, a neural network library from DeepMind) may not be prepackaged in the runtime. With Colab, you can install any python package from `pip` for the duration of your connection."
   ]
  },
  {
   "cell_type": "code",
   "execution_count": null,
   "metadata": {
    "id": "SAmMS5h8bn_1"
   },
   "outputs": [],
   "source": [
    "# we will use haiku on top of jax\n",
    "# !pip install -q dm-haiku\n",
    "# import haiku as hk"
   ]
  },
  {
   "cell_type": "markdown",
   "metadata": {
    "id": "eXYkeehcb8kg"
   },
   "source": [
    "### Forms\n",
    "\n",
    "With colab it is easy to take input from the user in code cells through so called forms. A simplest example is shown below."
   ]
  },
  {
   "cell_type": "code",
   "execution_count": null,
   "metadata": {
    "id": "IAZhaY6NcXlc"
   },
   "outputs": [],
   "source": [
    "#@title This text shows up as a title.\n",
    "\n",
    "a = 2  #@param {type: 'integer'}\n",
    "b = 3  #@param\n",
    "\n",
    "print(f'a+b = {str(a+b)}')"
   ]
  },
  {
   "cell_type": "markdown",
   "metadata": {
    "id": "TDlY63E-ccL7"
   },
   "source": [
    "You can change parameters on the right hand side, then rerun the cell to use these values. **Try setting the value of a=5 and rerun the cell above.**\n",
    "\n",
    "In order to expose a variable as parameter you just add `#@param` after it. There are various kinds of params, if you're interested you can read more about this on the official starting colab."
   ]
  },
  {
   "cell_type": "markdown",
   "metadata": {
    "id": "rjPF8rKiize7"
   },
   "source": [
    "## JAX\n",
    "[JAX](https://jax.readthedocs.io/en/latest/jax.html) allows NumPy-like code to execute on CPU, or accelerators like GPU, and TPU, with great automatic differentiation for high-performance machine learning research.\n",
    "\n",
    "- JAX automatically differentiates python code and NumPy code (with [Autograd](https://github.com/hips/autograd))\n",
    "- uses [XLA](https://www.tensorflow.org/xla) to compile and run NumPy code efficiently on accelerators\n",
    "\n",
    "This makes JAX a great tool for high-performance numerical computations and machine learning research."
   ]
  },
  {
   "cell_type": "markdown",
   "metadata": {
    "id": "TE4j9mLOQFpF"
   },
   "source": [
    "**Key Concepts:**\n",
    "\n",
    "* JAX provides a NumPy-inspired interface for convenience.\n",
    "* Through duck-typing, JAX arrays can often be used as drop-in replacements of NumPy arrays.\n",
    "* Unlike NumPy arrays, JAX arrays are always immutable.\n",
    "\n",
    "JAX has a functional interface, that is, all functions are pure, with no side effects. [This is what allows](https://colab.research.google.com/github/google/jax/blob/main/docs/jax-101/07-state.ipynb#scrollTo=Avjnyrjojo8z) the transformations/autograd to work.\n",
    "\n",
    "Various neural network libraries have been built on top of JAX to enable fast research and provide more familiar object oriented interfaces. We will see two of these below: haiku and flax."
   ]
  },
  {
   "cell_type": "markdown",
   "metadata": {
    "id": "NDmbQoL5mYmA"
   },
   "source": [
    "### JAX and random number generators\n",
    "Unlike many ML frameworks, JAX does not hide the pseudo-random number generator state. You need to generate a random key, and pass it to the operations that work with random numbers (e.g. initialising a model, dropout etc). A call to a random function with the same key does not change the state of the generator. This has to be done explicitly with `split()` or `next_rng_key()` in `haiku`."
   ]
  },
  {
   "cell_type": "code",
   "execution_count": 1,
   "metadata": {
    "id": "0j5kLgolmlCl"
   },
   "outputs": [
    {
     "name": "stderr",
     "output_type": "stream",
     "text": [
      "WARNING:jax._src.lib.xla_bridge:No GPU/TPU found, falling back to CPU. (Set TF_CPP_MIN_LOG_LEVEL=0 and rerun for more info.)\n"
     ]
    },
    {
     "name": "stdout",
     "output_type": "stream",
     "text": [
      "[ 1.8160863  -0.48262316  0.33988908]\n",
      "[ 1.8160863  -0.48262316  0.33988908]\n"
     ]
    }
   ],
   "source": [
    "import numpy as np\n",
    "import jax.numpy as jnp\n",
    "\n",
    "from jax import random\n",
    "\n",
    "key = random.PRNGKey(0)\n",
    "# The output is the same if the same key is used\n",
    "x1 = random.normal(key, (3,))\n",
    "x2 = random.normal(key, (3,))\n",
    "print(x1)\n",
    "print(x2)"
   ]
  },
  {
   "cell_type": "code",
   "execution_count": 2,
   "metadata": {
    "id": "IZNs5VAdfmpG"
   },
   "outputs": [
    {
     "name": "stdout",
     "output_type": "stream",
     "text": [
      "[ 0.13893168  0.509335   -0.53116107]\n",
      "[ 1.1378784  -1.2209548  -0.59153634]\n"
     ]
    }
   ],
   "source": [
    "# Let's split the key to be able to generate different random values\n",
    "key, new_key = random.split(key)\n",
    "x1 = random.normal(key, (3,))\n",
    "print (x1)\n",
    "x2 = random.normal(new_key, (3,))\n",
    "print (x2)"
   ]
  },
  {
   "cell_type": "markdown",
   "metadata": {
    "id": "8nwjljk9RhDh"
   },
   "source": [
    "Each time you need to use randomness, split a key and use one for your needs, the other to split later on."
   ]
  },
  {
   "cell_type": "markdown",
   "metadata": {
    "id": "-hiqCH1Nkvdv"
   },
   "source": [
    "### JAX program transformations with examples\n",
    "* `grad` -- returns derivatives of function with respect to the model weights passed as parameters\n",
    "* `vmap` -- automatic batching; returns a new function that can apply the original (per-sample) function to a batch.\n",
    "* `jit` (just-in-time compilation) -- speeds up your code by running all the ops inside the jit-ed function as a *fused* op; it compiles the function when it's called the first time and uses the compiled (optimised) version from the second call onwards.\n",
    "* `pmap` -- transforms a function to run on multiple devices in parallel and allows some cross device communication (not covered here)\n",
    "\n"
   ]
  },
  {
   "cell_type": "markdown",
   "metadata": {
    "id": "xMQlhH8n-grL"
   },
   "source": [
    "The `jax.grad()` function uses autograd to compute gradients of pure functions\n"
   ]
  },
  {
   "cell_type": "code",
   "execution_count": 3,
   "metadata": {
    "id": "rP70-aR3oouX"
   },
   "outputs": [
    {
     "name": "stdout",
     "output_type": "stream",
     "text": [
      "0.4199743\n",
      "-0.63969994\n"
     ]
    }
   ],
   "source": [
    "# Let's use grad to compute gradient of tanh\n",
    "from jax import grad\n",
    "def tanh(x):\n",
    "  # JAX NumPy\n",
    "  # Remember to use jnp instead of np for transformations to work\n",
    "  y = jnp.exp(-2.0 * x)\n",
    "  return (1.0 - y) / (1.0 + y)\n",
    "\n",
    "grad_tanh = grad(tanh)\n",
    "# Take the gradient at x = 1.0\n",
    "print(grad_tanh(1.))\n",
    "\n",
    "# You can also take the 2nd or higher gradients\n",
    "print(grad(grad_tanh)(1.))"
   ]
  },
  {
   "cell_type": "code",
   "execution_count": 4,
   "metadata": {
    "id": "FH8uTx364T0m"
   },
   "outputs": [
    {
     "data": {
      "image/png": "[encoded data removed]",
      "text/plain": [
       "<Figure size 640x480 with 1 Axes>"
      ]
     },
     "metadata": {},
     "output_type": "display_data"
    }
   ],
   "source": [
    "# Let's plot up to the third gradient\n",
    "import matplotlib.pyplot as plt\n",
    "x = jnp.arange(-8, 8, .1)\n",
    "plt.plot(\n",
    "    x, tanh(x),\n",
    "    x, [grad(tanh)(xi) for xi in x],\n",
    "    x, [grad(grad(tanh))(xi) for xi in x],\n",
    "    x, [grad(grad(grad(tanh)))(xi) for xi in x],\n",
    ")\n",
    "plt.show()"
   ]
  },
  {
   "cell_type": "code",
   "execution_count": 5,
   "metadata": {
    "id": "nkEsjylS7eZU"
   },
   "outputs": [
    {
     "data": {
      "text/plain": [
       "[Array(5.0511693e-07, dtype=float32),\n",
       " Array(6.2033223e-07, dtype=float32),\n",
       " Array(6.771802e-07, dtype=float32),\n",
       " Array(8.316425e-07, dtype=float32),\n",
       " Array(9.0785534e-07, dtype=float32),\n",
       " Array(1.1149339e-06, dtype=float32),\n",
       " Array(1.5213845e-06, dtype=float32),\n",
       " Array(1.7438464e-06, dtype=float32),\n",
       " Array(2.243593e-06, dtype=float32),\n",
       " Array(2.671853e-06, dtype=float32),\n",
       " Array(3.2812932e-06, dtype=float32),\n",
       " Array(4.029744e-06, dtype=float32),\n",
       " Array(4.765621e-06, dtype=float32),\n",
       " Array(6.0027096e-06, dtype=float32),\n",
       " Array(7.371905e-06, dtype=float32),\n",
       " Array(9.05341e-06, dtype=float32),\n",
       " Array(1.0871384e-05, dtype=float32),\n",
       " Array(1.34859665e-05, dtype=float32),\n",
       " Array(1.6562066e-05, dtype=float32),\n",
       " Array(2.0068615e-05, dtype=float32),\n",
       " Array(2.457218e-05, dtype=float32),\n",
       " Array(3.0177007e-05, dtype=float32),\n",
       " Array(3.6712987e-05, dtype=float32),\n",
       " Array(4.484337e-05, dtype=float32),\n",
       " Array(5.4672906e-05, dtype=float32),\n",
       " Array(6.66535e-05, dtype=float32),\n",
       " Array(8.167859e-05, dtype=float32),\n",
       " Array(9.957912e-05, dtype=float32),\n",
       " Array(0.00012158, dtype=float32),\n",
       " Array(0.00014857, dtype=float32),\n",
       " Array(0.00018174, dtype=float32),\n",
       " Array(0.00022175, dtype=float32),\n",
       " Array(0.00027093, dtype=float32),\n",
       " Array(0.00033089, dtype=float32),\n",
       " Array(0.00040398, dtype=float32),\n",
       " Array(0.0004936, dtype=float32),\n",
       " Array(0.00060281, dtype=float32),\n",
       " Array(0.00073604, dtype=float32),\n",
       " Array(0.00089913, dtype=float32),\n",
       " Array(0.00109802, dtype=float32),\n",
       " Array(0.00134093, dtype=float32),\n",
       " Array(0.00163742, dtype=float32),\n",
       " Array(0.00199986, dtype=float32),\n",
       " Array(0.00244202, dtype=float32),\n",
       " Array(0.00298172, dtype=float32),\n",
       " Array(0.00364091, dtype=float32),\n",
       " Array(0.0044452, dtype=float32),\n",
       " Array(0.00542679, dtype=float32),\n",
       " Array(0.00662405, dtype=float32),\n",
       " Array(0.00808466, dtype=float32),\n",
       " Array(0.00986581, dtype=float32),\n",
       " Array(0.01203711, dtype=float32),\n",
       " Array(0.01468236, dtype=float32),\n",
       " Array(0.01790418, dtype=float32),\n",
       " Array(0.02182464, dtype=float32),\n",
       " Array(0.02659184, dtype=float32),\n",
       " Array(0.0323833, dtype=float32),\n",
       " Array(0.03941069, dtype=float32),\n",
       " Array(0.04792488, dtype=float32),\n",
       " Array(0.05822238, dtype=float32),\n",
       " Array(0.07065011, dtype=float32),\n",
       " Array(0.08560912, dtype=float32),\n",
       " Array(0.10355727, dtype=float32),\n",
       " Array(0.1250084, dtype=float32),\n",
       " Array(0.1505254, dtype=float32),\n",
       " Array(0.18070464, dtype=float32),\n",
       " Array(0.21615009, dtype=float32),\n",
       " Array(0.25743026, dtype=float32),\n",
       " Array(0.30501667, dtype=float32),\n",
       " Array(0.3591976, dtype=float32),\n",
       " Array(0.41997007, dtype=float32),\n",
       " Array(0.48691258, dtype=float32),\n",
       " Array(0.5590501, dtype=float32),\n",
       " Array(0.6347342, dtype=float32),\n",
       " Array(0.71157247, dtype=float32),\n",
       " Array(0.7864425, dtype=float32),\n",
       " Array(0.8556342, dtype=float32),\n",
       " Array(0.915133, dtype=float32),\n",
       " Array(0.9610402, dtype=float32),\n",
       " Array(0.9900648, dtype=float32),\n",
       " Array(1., dtype=float32),\n",
       " Array(0.9900676, dtype=float32),\n",
       " Array(0.9610459, dtype=float32),\n",
       " Array(0.91514146, dtype=float32),\n",
       " Array(0.855644, dtype=float32),\n",
       " Array(0.78645325, dtype=float32),\n",
       " Array(0.711584, dtype=float32),\n",
       " Array(0.6347463, dtype=float32),\n",
       " Array(0.55906147, dtype=float32),\n",
       " Array(0.48692292, dtype=float32),\n",
       " Array(0.41997984, dtype=float32),\n",
       " Array(0.3592066, dtype=float32),\n",
       " Array(0.30502445, dtype=float32),\n",
       " Array(0.25743693, dtype=float32),\n",
       " Array(0.21615589, dtype=float32),\n",
       " Array(0.18070976, dtype=float32),\n",
       " Array(0.15052962, dtype=float32),\n",
       " Array(0.12501194, dtype=float32),\n",
       " Array(0.10356021, dtype=float32),\n",
       " Array(0.08561155, dtype=float32),\n",
       " Array(0.07065211, dtype=float32),\n",
       " Array(0.05822408, dtype=float32),\n",
       " Array(0.04792625, dtype=float32),\n",
       " Array(0.03941185, dtype=float32),\n",
       " Array(0.03238441, dtype=float32),\n",
       " Array(0.02659273, dtype=float32),\n",
       " Array(0.02182524, dtype=float32),\n",
       " Array(0.01790461, dtype=float32),\n",
       " Array(0.01468296, dtype=float32),\n",
       " Array(0.01203746, dtype=float32),\n",
       " Array(0.00986624, dtype=float32),\n",
       " Array(0.00808505, dtype=float32),\n",
       " Array(0.00662434, dtype=float32),\n",
       " Array(0.00542681, dtype=float32),\n",
       " Array(0.00444529, dtype=float32),\n",
       " Array(0.00364097, dtype=float32),\n",
       " Array(0.00298195, dtype=float32),\n",
       " Array(0.00244208, dtype=float32),\n",
       " Array(0.00199985, dtype=float32),\n",
       " Array(0.00163764, dtype=float32),\n",
       " Array(0.00134098, dtype=float32),\n",
       " Array(0.00109804, dtype=float32),\n",
       " Array(0.00089909, dtype=float32),\n",
       " Array(0.00073617, dtype=float32),\n",
       " Array(0.00060276, dtype=float32),\n",
       " Array(0.00049353, dtype=float32),\n",
       " Array(0.00040409, dtype=float32),\n",
       " Array(0.00033085, dtype=float32),\n",
       " Array(0.00027088, dtype=float32),\n",
       " Array(0.00022179, dtype=float32),\n",
       " Array(0.00018159, dtype=float32),\n",
       " Array(0.00014867, dtype=float32),\n",
       " Array(0.00012173, dtype=float32),\n",
       " Array(9.9661505e-05, dtype=float32),\n",
       " Array(8.159677e-05, dtype=float32),\n",
       " Array(6.680636e-05, dtype=float32),\n",
       " Array(5.4696706e-05, dtype=float32),\n",
       " Array(4.4782064e-05, dtype=float32),\n",
       " Array(3.666464e-05, dtype=float32),\n",
       " Array(3.0018606e-05, dtype=float32),\n",
       " Array(2.45772e-05, dtype=float32),\n",
       " Array(2.0122143e-05, dtype=float32),\n",
       " Array(1.6474663e-05, dtype=float32),\n",
       " Array(1.3488351e-05, dtype=float32),\n",
       " Array(1.1043333e-05, dtype=float32),\n",
       " Array(9.041518e-06, dtype=float32),\n",
       " Array(7.402583e-06, dtype=float32),\n",
       " Array(6.0607335e-06, dtype=float32),\n",
       " Array(4.9621085e-06, dtype=float32),\n",
       " Array(4.0626287e-06, dtype=float32),\n",
       " Array(3.3262045e-06, dtype=float32),\n",
       " Array(2.7232697e-06, dtype=float32),\n",
       " Array(2.2296233e-06, dtype=float32),\n",
       " Array(1.8254603e-06, dtype=float32),\n",
       " Array(1.4945626e-06, dtype=float32),\n",
       " Array(1.2236458e-06, dtype=float32),\n",
       " Array(1.0018359e-06, dtype=float32),\n",
       " Array(8.202332e-07, dtype=float32),\n",
       " Array(6.715511e-07, dtype=float32),\n",
       " Array(5.498202e-07, dtype=float32)]"
      ]
     },
     "execution_count": 5,
     "metadata": {},
     "output_type": "execute_result"
    }
   ],
   "source": [
    "# Note that while tanh works on arrays\n",
    "tanh(x)\n",
    "\n",
    "# If you try passing x to grad(tanh), it will fail\n",
    "# because grad only works for scalar output functions\n",
    "# grad(tanh)(x)\n",
    "\n",
    "# That is why we evaluated the gradient element-wise,\n",
    "# which is somewhat inefficient as you might have noticed at runtime\n",
    "[grad(tanh)(xi) for xi in x]\n"
   ]
  },
  {
   "cell_type": "code",
   "execution_count": 5,
   "metadata": {
    "id": "foOt9Hq2_dqI"
   },
   "outputs": [
    {
     "data": {
      "image/png": "[encoded data removed]",
      "text/plain": [
       "<Figure size 640x480 with 1 Axes>"
      ]
     },
     "metadata": {},
     "output_type": "display_data"
    }
   ],
   "source": [
    "# jax.vmap can be used to vectorize functions efficiently\n",
    "# we can use it to vectorize the above gradient functions\n",
    "# ->>> vectorize the for loop\n",
    "from jax import vmap\n",
    "\n",
    "vectorized_grad_tanh = vmap(grad(tanh))\n",
    "\n",
    "# Plot again and check that the gradients are identical\n",
    "plt.plot(\n",
    "    x, tanh(x),\n",
    "    x, vectorized_grad_tanh(x),\n",
    ")\n",
    "plt.show()"
   ]
  },
  {
   "cell_type": "markdown",
   "metadata": {
    "id": "BO-U6iXP_Kat"
   },
   "source": [
    "Vectorization is a function transformation optimized for speed, not just a for loop in disguise. We can further use jax.jit() to transform our functions to native XLA code."
   ]
  },
  {
   "cell_type": "code",
   "execution_count": 6,
   "metadata": {
    "id": "qiWR4CPjlc6T"
   },
   "outputs": [
    {
     "data": {
      "image/png": "[encoded data removed]",
      "text/plain": [
       "<Figure size 640x480 with 1 Axes>"
      ]
     },
     "metadata": {},
     "output_type": "display_data"
    }
   ],
   "source": [
    "# Let's use jit to speed up a function\n",
    "from jax import jit\n",
    "\n",
    "jit_vectorized_grad_tanh = jit(vectorized_grad_tanh)\n",
    "\n",
    "# Check that this yields the same plot\n",
    "plt.plot(\n",
    "    x, tanh(x),\n",
    "    x, jit_vectorized_grad_tanh(x),\n",
    ")\n",
    "plt.show()"
   ]
  },
  {
   "cell_type": "markdown",
   "metadata": {
    "id": "B83GRhlqAsAQ"
   },
   "source": [
    "You can also use the `@jit` decorator which is just a wrapper that transforms the annotated functions for you automatically."
   ]
  },
  {
   "cell_type": "code",
   "execution_count": 8,
   "metadata": {
    "id": "dibhhYsjphE3"
   },
   "outputs": [
    {
     "name": "stdout",
     "output_type": "stream",
     "text": [
      "Manual vectorization\n",
      "505 ms ± 12.3 ms per loop (mean ± std. dev. of 7 runs, 1 loop each)\n",
      "Manual vectorization with jit\n",
      "The slowest run took 9.41 times longer than the fastest. This could mean that an intermediate result is being cached.\n",
      "13 µs ± 16.2 µs per loop (mean ± std. dev. of 7 runs, 1 loop each)\n",
      "Vmap vectorization\n",
      "4.78 ms ± 45.6 µs per loop (mean ± std. dev. of 7 runs, 100 loops each)\n",
      "Vmap vectorization with jit\n",
      "3.45 µs ± 7.14 ns per loop (mean ± std. dev. of 7 runs, 100,000 loops each)\n"
     ]
    }
   ],
   "source": [
    "# Now let's measure the speedups!\n",
    "grad_tanh = grad(tanh)\n",
    "\n",
    "# manual vectorization\n",
    "def manual_vectorization(x):\n",
    "  return jnp.stack([grad_tanh(xi) for xi in x])\n",
    "\n",
    "# manual vectorization with jit\n",
    "@jit\n",
    "def manual_vectorization_jit(x):\n",
    "  return jnp.stack([grad_tanh(xi) for xi in x])\n",
    "\n",
    "# vmap vectorization\n",
    "def vmap_vectorization(x):\n",
    "  return vmap(grad_tanh)(x)\n",
    "\n",
    "# vmap vectorization with jit\n",
    "@jit\n",
    "def vmap_vectorization_jit(x):\n",
    "  return vmap(grad_tanh)(x)\n",
    "\n",
    "print('Manual vectorization')\n",
    "%timeit manual_vectorization(x).block_until_ready()\n",
    "print('Manual vectorization with jit')\n",
    "%timeit manual_vectorization_jit(x).block_until_ready()\n",
    "print('Vmap vectorization')\n",
    "%timeit vmap_vectorization(x).block_until_ready()\n",
    "print('Vmap vectorization with jit')\n",
    "%timeit vmap_vectorization_jit(x).block_until_ready()"
   ]
  },
  {
   "cell_type": "markdown",
   "metadata": {
    "id": "7AMFwmHJCPgg"
   },
   "source": [
    "Exciting! The speedup is orders of magnitude here. Oh, seeker of knowledge, let your heart be ensnared by the enchanting allure of Jax. For within its [cryptic algorithms](https://jax.readthedocs.io/en/latest/jax-101/02-jitting.html) lies the key to a universe of wonders yet undiscovered."
   ]
  },
  {
   "cell_type": "markdown",
   "metadata": {
    "id": "Z3YzCtNQngGx"
   },
   "source": [
    "### Exercise: Plot second derivative of sin(x)/x"
   ]
  },
  {
   "cell_type": "code",
   "execution_count": 9,
   "metadata": {
    "id": "ph5IIdploKmO"
   },
   "outputs": [
    {
     "data": {
      "image/png": "[encoded data removed]",
      "text/plain": [
       "<Figure size 640x480 with 1 Axes>"
      ]
     },
     "metadata": {},
     "output_type": "display_data"
    }
   ],
   "source": [
    "# TODO: Define sin x over x\n",
    "def sinc(x):\n",
    "  # return jnp.sin(x)/x\n",
    "  return jnp.sinc(x)\n",
    "\n",
    "# TODO: Take second gradient\n",
    "# def sinxgrad(x):\n",
    "  # return grad(grad(sinc(x)))\n",
    "\n",
    "grad_sinc = grad(sinc)\n",
    "grad_grad_sinc = grad(grad_sinc)\n",
    "\n",
    "\n",
    "moutput = np.arange(-10, 10, 0.1)\n",
    "minput = np.arange(-10, 10, 0.1)\n",
    "# TODO: Plot it between [-10, 10]\n",
    "for i in range (200):\n",
    "  # moutput[i] = vmap(grad_grad_sinc(minput))\n",
    "  moutput[i] = grad_grad_sinc(minput[i])\n",
    "\n",
    "\n",
    "minput = np.arange(-10, 10, 0.1)\n",
    "\n",
    "plt.plot(\n",
    "    minput, moutput,\n",
    ")\n",
    "plt.show()"
   ]
  },
  {
   "cell_type": "markdown",
   "metadata": {
    "id": "6EdK9zpqUl2H"
   },
   "source": [
    "### JAX Pytrees\n",
    "\n",
    "The jax ecosystem (including flax and haiku) relies on structured, nested data -- [pytrees](https://jax.readthedocs.io/en/latest/pytrees.html).\n",
    "\n",
    "In JAX, a pytree is a container of leaf elements and/or more pytrees. Containers include lists, tuples, and dicts. A leaf element is anything that’s not a pytree, e.g. a jnp array.\n",
    "\n",
    "`pytree = list[pytree] | tuple[pytree] | dict [pytree] | leaf`"
   ]
  },
  {
   "cell_type": "markdown",
   "metadata": {
    "id": "KwFnfj4_JiM6"
   },
   "source": [
    "Let's see an example (taken from [this tutorial](https://colab.sandbox.google.com/github/google/jax/blob/master/docs/jax-101/05.1-pytrees.ipynb#scrollTo=9UjxVY9ulSCn)):"
   ]
  },
  {
   "cell_type": "code",
   "execution_count": 7,
   "metadata": {
    "id": "rjhUrw-NUzfz"
   },
   "outputs": [
    {
     "name": "stdout",
     "output_type": "stream",
     "text": [
      "[1, 'a', <object object at 0x7f1bc8639a30>]   has 3 leaves: [1, 'a', <object object at 0x7f1bc8639a30>]\n",
      "(1, (2, 3), ())                               has 3 leaves: [1, 2, 3]\n",
      "[1, {'k1': 2, 'k2': (3, 4)}, 5]               has 5 leaves: [1, 2, 3, 4, 5]\n",
      "{'a': 2, 'b': (2, 3)}                         has 3 leaves: [2, 2, 3]\n",
      "DeviceArray([1, 2, 3], dtype=int32)           has 1 leaves: [DeviceArray([1, 2, 3], dtype=int32)]\n"
     ]
    }
   ],
   "source": [
    "import jax\n",
    "import jax.numpy as jnp\n",
    "\n",
    "example_trees = [\n",
    "    [1, 'a', object()],\n",
    "    (1, (2, 3), ()),\n",
    "    [1, {'k1': 2, 'k2': (3, 4)}, 5],\n",
    "    {'a': 2, 'b': (2, 3)},\n",
    "    jnp.array([1, 2, 3]),\n",
    "]\n",
    "\n",
    "# Let's see how many leaves they have, by using `jax.tree_leaves(pytree)`\n",
    "# to access the flattened leaves of the tree\n",
    "for pytree in example_trees:\n",
    "  leaves = jax.tree_util.tree_leaves(pytree)\n",
    "  print(f\"{repr(pytree):<45} has {len(leaves)} leaves: {leaves}\")"
   ]
  },
  {
   "cell_type": "markdown",
   "metadata": {
    "id": "LInfkv5-Kxr0"
   },
   "source": [
    "Places where you commonly find pytrees are:\n",
    "* Model parameters (e.g. see `get_num_params` function below)\n",
    "* Dataset entries\n",
    "* RL agent observations\n",
    "\n",
    "Check the [tutorial linked above](https://colab.sandbox.google.com/github/google/jax/blob/master/docs/jax-101/05.1-pytrees.ipynb#scrollTo=-h05_PNNhZ-D) for more details and exercises on pytrees."
   ]
  },
  {
   "cell_type": "markdown",
   "metadata": {
    "id": "t9wmw3voI_J1"
   },
   "source": [
    "A heavily used pytree function is [jax.tree_map](https://jax.readthedocs.io/en/latest/_autosummary/jax.tree_util.tree_map.html) that maps a function over leaves, which is frequently used to batch pytrees with identical structure."
   ]
  },
  {
   "cell_type": "code",
   "execution_count": 11,
   "metadata": {
    "id": "mBpv1cd8J3Xh"
   },
   "outputs": [
    {
     "data": {
      "text/plain": [
       "{'x': Array([[0., 0., 0., 0., 0., 0., 0., 0., 0., 0.],\n",
       "        [0., 0., 0., 0., 0., 0., 0., 0., 0., 0.],\n",
       "        [0., 0., 0., 0., 0., 0., 0., 0., 0., 0.],\n",
       "        [0., 0., 0., 0., 0., 0., 0., 0., 0., 0.]], dtype=float32),\n",
       " 'y': Array([[1., 1., 1., 1., 1., 1., 1., 1., 1., 1.],\n",
       "        [1., 1., 1., 1., 1., 1., 1., 1., 1., 1.],\n",
       "        [1., 1., 1., 1., 1., 1., 1., 1., 1., 1.],\n",
       "        [1., 1., 1., 1., 1., 1., 1., 1., 1., 1.]], dtype=float32)}"
      ]
     },
     "execution_count": 11,
     "metadata": {},
     "output_type": "execute_result"
    }
   ],
   "source": [
    "# Batching a lits of pytrees\n",
    "batch_size = 4\n",
    "list_of_pytrees = [{'x': jnp.zeros(10), 'y': jnp.ones(10)}] * batch_size\n",
    "pytree_of_batch = jax.tree_map(lambda *leaves: jnp.stack(leaves), *list_of_pytrees)\n",
    "pytree_of_batch"
   ]
  },
  {
   "cell_type": "markdown",
   "metadata": {
    "id": "KSMUMtokL4rO"
   },
   "source": [
    "### JAX More details\n",
    "- For more details on jax, check out this [collection of eight JAX-101 tutorials](https://jax.readthedocs.io/en/latest/jax-101/index.html).\n",
    "- Check out \"The Sharp Bits\" for [common gotchas](https://jax.readthedocs.io/en/latest/notebooks/Common_Gotchas_in_JAX.html) in JAX!"
   ]
  },
  {
   "cell_type": "markdown",
   "metadata": {
    "id": "VlJkN2ADNqVk"
   },
   "source": [
    "## Training our first ML model in JAX\n",
    "We will implement gradient descent that will fit the parameters of a simple linear model to noisy data. The example is inspired by the [JAX 101 tutorial](https://jax.readthedocs.io/en/latest/jax-101/01-jax-basics.html)"
   ]
  },
  {
   "cell_type": "markdown",
   "metadata": {
    "id": "cZyNvzUGO9K9"
   },
   "source": [
    "We will generate our noisy dataset using the following linear equation `y = x*w + b + noise`. The task is to regress the parameters `w` and `b` by observing training examples of `x,y`."
   ]
  },
  {
   "cell_type": "markdown",
   "metadata": {
    "id": "Zd5gL9j3c0gK"
   },
   "source": [
    "### Generating a dataset"
   ]
  },
  {
   "cell_type": "code",
   "execution_count": 12,
   "metadata": {
    "id": "ofFHZiNobUoM"
   },
   "outputs": [],
   "source": [
    "# Set the params\n",
    "\n",
    "w = 3.  #@param\n",
    "b = -1.  #@param"
   ]
  },
  {
   "cell_type": "code",
   "execution_count": 13,
   "metadata": {
    "id": "44Ec6lTdOa-d"
   },
   "outputs": [
    {
     "data": {
      "image/png": "[encoded data removed]",
      "text/plain": [
       "<Figure size 640x480 with 1 Axes>"
      ]
     },
     "metadata": {},
     "output_type": "display_data"
    }
   ],
   "source": [
    "# Let's sample a dataset of 100 data points\n",
    "X = np.random.normal(size=(100,))\n",
    "noise = np.random.normal(scale=0.5, size=(100,))\n",
    "Y = X * w + b + noise\n",
    "plt.scatter(X, Y);"
   ]
  },
  {
   "cell_type": "markdown",
   "metadata": {
    "id": "uP_jUDsYc3VL"
   },
   "source": [
    "### Defining a model"
   ]
  },
  {
   "cell_type": "code",
   "execution_count": 14,
   "metadata": {
    "id": "Ipa-yFG6QIrc"
   },
   "outputs": [],
   "source": [
    "# Our model is going to be y(x,w,b) = x*w + b\n",
    "# We will store the parameters as a single array params = [w, b]\n",
    "@jit\n",
    "def model(params, x):\n",
    "  \"\"\"Computes wx + b on a batch of input x.\"\"\"\n",
    "  w, b = params\n",
    "  return w * x + b"
   ]
  },
  {
   "cell_type": "markdown",
   "metadata": {
    "id": "5ID0xQKpoBGy"
   },
   "source": [
    "### Exercise: write your loss function"
   ]
  },
  {
   "cell_type": "code",
   "execution_count": 15,
   "metadata": {
    "id": "2iEhlCyQRO4Y"
   },
   "outputs": [],
   "source": [
    "# The loss function of choice for regression on gaussian noise is mean squared error.\n",
    "def loss_fn(params, x, y):\n",
    "  prediction = model(params, x)\n",
    "\n",
    "  # TODO: Implement mean squared error\n",
    "\n",
    "  # for implementation\n",
    "  loss = 0.\n",
    "  for i in range (0, len(y)):\n",
    "    loss += (y[i]-prediction[i]) * (y[i]-prediction[i])\n",
    "\n",
    "  return loss/len(y)\n"
   ]
  },
  {
   "cell_type": "markdown",
   "metadata": {
    "id": "YdgpZNF6c7QL"
   },
   "source": [
    "### Training the model"
   ]
  },
  {
   "cell_type": "code",
   "execution_count": 16,
   "metadata": {
    "id": "a-mqL5aGRiWb"
   },
   "outputs": [],
   "source": [
    "# We minimize the loss by stepping the parameters\n",
    "# in the direction of steepest loss descent, that is,\n",
    "# the negative gradient of params w.r.t. loss.\n",
    "def update(params, x, y, lr=0.02):\n",
    "  return params - lr * jax.grad(loss_fn)(params, x, y)"
   ]
  },
  {
   "cell_type": "code",
   "execution_count": 17,
   "metadata": {
    "id": "HmBed8j6Z5PT"
   },
   "outputs": [],
   "source": [
    "# TODO: Can you speed up the loop by adding jit somewhere else?\n",
    "params = jnp.array([1.,1.]) # initialize w=0, b=0\n",
    "for i in range(42):\n",
    "  params = update(params, X, Y)"
   ]
  },
  {
   "cell_type": "code",
   "execution_count": null,
   "metadata": {
    "id": "c8y0KkAWbBFt"
   },
   "outputs": [],
   "source": [
    "# Params should end up close to the hidden params\n",
    "params"
   ]
  },
  {
   "cell_type": "code",
   "execution_count": 18,
   "metadata": {
    "id": "hXtuyra-bnOB"
   },
   "outputs": [
    {
     "data": {
      "text/plain": [
       "[<matplotlib.lines.Line2D at 0x7f0b0007d700>]"
      ]
     },
     "execution_count": 18,
     "metadata": {},
     "output_type": "execute_result"
    },
    {
     "data": {
      "image/png": "[encoded data removed]",
      "text/plain": [
       "<Figure size 640x480 with 1 Axes>"
      ]
     },
     "metadata": {},
     "output_type": "display_data"
    }
   ],
   "source": [
    "# Let's use the model to plot the regression fit\n",
    "plt.scatter(X, Y);\n",
    "plt.plot(X, model(params, X))\n",
    "plt.plot(X,  X * w + b)"
   ]
  },
  {
   "cell_type": "markdown",
   "metadata": {
    "id": "-d5ihf1tc-ig"
   },
   "source": [
    "### Where is backpropagation?\n",
    "Coming from pytorch, you might be asking this question. In Pytorch you are used to defining a model and calling `loss.backward()`. This builds the computational graph dynamically, then traverses using the chain rule to get the gradients. Each node computes its gradient w.r.t. its params in an object oriented manner, aligning with Pythonic principles.\n",
    "\n",
    "In JAX, differentiation is achieved through just-in-time compilation. The model function is traced and a static graph is constructed and transformed into its gradient (can use either forward or reverse-mode differentiation). JIT is faster and exposing the gradient allows more powerful parameter updates. However, static graphs are less flexible to dynamic control flow and varying input sizes.\n",
    "\n",
    "Mastering JAX requires a bit of functional thinking, but there are libraries that allow a more pythonic/pytorchy model design. We will explore Haiku next."
   ]
  },
  {
   "cell_type": "markdown",
   "metadata": {
    "id": "x7ViyN6Q8kOa"
   },
   "source": [
    "## Haiku -- object-oriented neural network library on top of JAX\n",
    "\n",
    "[Haiku](https://github.com/deepmind/dm-haiku) is a simple neural network library for JAX that enables users to use familiar object-oriented programming models while allowing full access to JAX's pure function transformations.\n",
    "\n",
    "This colab goes through a complete but minimal example training an MLP classifier on MNIST. The [quickstart](https://github.com/deepmind/dm-haiku#quickstart) and [user-manual](https://github.com/deepmind/dm-haiku#user-manual) provide more information.\n",
    "\n",
    "Notable functions / entities\n",
    "* `hk.Module`'s are Python classes that hold references to their own parameters, and methods that apply functions on user inputs.\n",
    "* `hk.transform`: converts non-pure (objects) functions into pure functions; returns an object with a pair of pure functions `init` and `apply`.\n",
    "* `hk.next_rng_key()`: returns a unique random key\n",
    "\n",
    "**Important.**\n",
    "Do not use jax transforms (grad, jit, etc) with impure functions (e.g. inside Haiku networks). Instead, use them on `hk.transform`ed pure functions, or try the experimental `haiku.grad` and `haiku.jit` etc."
   ]
  },
  {
   "cell_type": "markdown",
   "metadata": {
    "id": "xO4YkwlaQ0gD"
   },
   "source": [
    "### Installing Haiku"
   ]
  },
  {
   "cell_type": "code",
   "execution_count": 8,
   "metadata": {
    "id": "_U512EJVvQpT"
   },
   "outputs": [],
   "source": [
    "# We will install and import haiku\n",
    "!pip install -q dm-haiku optax\n",
    "import haiku as hk"
   ]
  },
  {
   "cell_type": "markdown",
   "metadata": {
    "id": "BZGn2q2nQ3nT"
   },
   "source": [
    "### Defining Haiku modules"
   ]
  },
  {
   "cell_type": "code",
   "execution_count": 9,
   "metadata": {
    "id": "h6a51f9lQ6Jp"
   },
   "outputs": [],
   "source": [
    "# Inherit from the hk.Module base class\n",
    "class MyLinear(hk.Module):\n",
    "\n",
    "  # Define module init, which usually takes in parameters\n",
    "  # like output_size that make the module configurable and reusable\n",
    "  def __init__(self, output_size, name=None):\n",
    "    super().__init__(name=name)\n",
    "    self.output_size = output_size\n",
    "\n",
    "  # Define a call function that will be the module's forward pass.\n",
    "  # Notice that parameters are not passed in here so the function is not pure.\n",
    "  def __call__(self, x):\n",
    "    j, k = x.shape[-1], self.output_size\n",
    "    # Use get_parameter to retrieve parameters\n",
    "    w = hk.get_parameter(\"w\", shape=[j, k], dtype=x.dtype, init=jnp.ones)\n",
    "    b = hk.get_parameter(\"b\", shape=[k], dtype=x.dtype, init=jnp.zeros)\n",
    "    return jnp.dot(x, w) + b"
   ]
  },
  {
   "cell_type": "code",
   "execution_count": 10,
   "metadata": {
    "id": "6KnZtTbnDc28"
   },
   "outputs": [],
   "source": [
    "# To use the module, we need to transform it to a pure function\n",
    "my_linear = hk.transform(lambda x: MyLinear(output_size=10)(x))"
   ]
  },
  {
   "cell_type": "code",
   "execution_count": 11,
   "metadata": {
    "id": "UF8FiONWDd5c"
   },
   "outputs": [
    {
     "name": "stdout",
     "output_type": "stream",
     "text": [
      "{'my_linear': {'b': (10,), 'w': (8, 10)}}\n",
      "[[8. 8. 8. 8. 8. 8. 8. 8. 8. 8.]\n",
      " [8. 8. 8. 8. 8. 8. 8. 8. 8. 8.]]\n"
     ]
    }
   ],
   "source": [
    "# The transform returns the init() and apply() functions\n",
    "# init returns the initial parameters of the module\n",
    "rng = jax.random.PRNGKey(0)\n",
    "x = jnp.ones((2, 8))\n",
    "params = my_linear.init(rng, x)\n",
    "\n",
    "# We need to pass in a random key jax.random.PRNGKey(0)\n",
    "# to apply so that haiku can use it internally\n",
    "print(jax.tree_map(lambda x: x.shape, params))\n",
    "print(my_linear.apply(params, rng, x))"
   ]
  },
  {
   "cell_type": "markdown",
   "metadata": {
    "id": "1jQ9UNF_T6uw"
   },
   "source": [
    "### Build your own Haiku\n",
    "The `get_parameter()` function is certainly accessing params that are not passed as arguments, which results in impure functions.\n",
    "For more details on how Haiku retrieves parameters and converts impure functions to pure, you can \"[Build your own Haiku!](https://dm-haiku.readthedocs.io/en/latest/notebooks/build_your_own_haiku.html)\"."
   ]
  },
  {
   "cell_type": "markdown",
   "metadata": {
    "id": "96tdcCU2Q67U"
   },
   "source": [
    "## Example: Training an MLP for MNIST image classification"
   ]
  },
  {
   "cell_type": "markdown",
   "metadata": {
    "id": "3h4MVQzkck_R"
   },
   "source": [
    "### Setting up and connecting to GPU\n",
    "\n",
    "We also use\n",
    "\n",
    "* [optax](https://github.com/deepmind/optax) a gradient processing and optimization library.\n",
    "* [tensorflow datasets](https://www.tensorflow.org/datasets) to load and pre-process data."
   ]
  },
  {
   "cell_type": "code",
   "execution_count": 12,
   "metadata": {
    "id": "NG3krUq1WK_A"
   },
   "outputs": [
    {
     "name": "stdout",
     "output_type": "stream",
     "text": [
      "Looking in indexes: https://pypi.org/simple, https://pypi.ngc.nvidia.com\n",
      "Requirement already satisfied: tensorflow in /home/cioflanc/miniconda3/envs/eeml2023/lib/python3.7/site-packages (2.11.0)\n",
      "Requirement already satisfied: typing-extensions>=3.6.6 in /home/cioflanc/miniconda3/envs/eeml2023/lib/python3.7/site-packages (from tensorflow) (4.7.1)\n",
      "Requirement already satisfied: termcolor>=1.1.0 in /home/cioflanc/miniconda3/envs/eeml2023/lib/python3.7/site-packages (from tensorflow) (2.3.0)\n",
      "Requirement already satisfied: packaging in /home/cioflanc/miniconda3/envs/eeml2023/lib/python3.7/site-packages (from tensorflow) (23.1)\n",
      "Requirement already satisfied: astunparse>=1.6.0 in /home/cioflanc/miniconda3/envs/eeml2023/lib/python3.7/site-packages (from tensorflow) (1.6.3)\n",
      "Requirement already satisfied: gast<=0.4.0,>=0.2.1 in /home/cioflanc/miniconda3/envs/eeml2023/lib/python3.7/site-packages (from tensorflow) (0.4.0)\n",
      "Requirement already satisfied: opt-einsum>=2.3.2 in /home/cioflanc/miniconda3/envs/eeml2023/lib/python3.7/site-packages (from tensorflow) (3.3.0)\n",
      "Requirement already satisfied: grpcio<2.0,>=1.24.3 in /home/cioflanc/miniconda3/envs/eeml2023/lib/python3.7/site-packages (from tensorflow) (1.56.0)\n",
      "Requirement already satisfied: six>=1.12.0 in /home/cioflanc/miniconda3/envs/eeml2023/lib/python3.7/site-packages (from tensorflow) (1.16.0)\n",
      "Requirement already satisfied: flatbuffers>=2.0 in /home/cioflanc/miniconda3/envs/eeml2023/lib/python3.7/site-packages (from tensorflow) (23.5.26)\n",
      "Requirement already satisfied: h5py>=2.9.0 in /home/cioflanc/miniconda3/envs/eeml2023/lib/python3.7/site-packages (from tensorflow) (3.8.0)\n",
      "Requirement already satisfied: google-pasta>=0.1.1 in /home/cioflanc/miniconda3/envs/eeml2023/lib/python3.7/site-packages (from tensorflow) (0.2.0)\n",
      "Requirement already satisfied: tensorflow-estimator<2.12,>=2.11.0 in /home/cioflanc/miniconda3/envs/eeml2023/lib/python3.7/site-packages (from tensorflow) (2.11.0)\n",
      "Requirement already satisfied: tensorboard<2.12,>=2.11 in /home/cioflanc/miniconda3/envs/eeml2023/lib/python3.7/site-packages (from tensorflow) (2.11.2)\n",
      "Requirement already satisfied: wrapt>=1.11.0 in /home/cioflanc/miniconda3/envs/eeml2023/lib/python3.7/site-packages (from tensorflow) (1.15.0)\n",
      "Requirement already satisfied: numpy>=1.20 in /home/cioflanc/miniconda3/envs/eeml2023/lib/python3.7/site-packages (from tensorflow) (1.21.6)\n",
      "Requirement already satisfied: absl-py>=1.0.0 in /home/cioflanc/miniconda3/envs/eeml2023/lib/python3.7/site-packages (from tensorflow) (1.4.0)\n",
      "Requirement already satisfied: protobuf<3.20,>=3.9.2 in /home/cioflanc/miniconda3/envs/eeml2023/lib/python3.7/site-packages (from tensorflow) (3.19.6)\n",
      "Requirement already satisfied: tensorflow-io-gcs-filesystem>=0.23.1 in /home/cioflanc/miniconda3/envs/eeml2023/lib/python3.7/site-packages (from tensorflow) (0.32.0)\n",
      "Requirement already satisfied: libclang>=13.0.0 in /home/cioflanc/miniconda3/envs/eeml2023/lib/python3.7/site-packages (from tensorflow) (16.0.0)\n",
      "Requirement already satisfied: keras<2.12,>=2.11.0 in /home/cioflanc/miniconda3/envs/eeml2023/lib/python3.7/site-packages (from tensorflow) (2.11.0)\n",
      "Requirement already satisfied: setuptools in /home/cioflanc/miniconda3/envs/eeml2023/lib/python3.7/site-packages (from tensorflow) (65.6.3)\n",
      "Requirement already satisfied: wheel<1.0,>=0.23.0 in /home/cioflanc/miniconda3/envs/eeml2023/lib/python3.7/site-packages (from astunparse>=1.6.0->tensorflow) (0.38.4)\n",
      "Requirement already satisfied: requests<3,>=2.21.0 in /home/cioflanc/.local/lib/python3.7/site-packages (from tensorboard<2.12,>=2.11->tensorflow) (2.25.1)\n",
      "Requirement already satisfied: werkzeug>=1.0.1 in /home/cioflanc/.local/lib/python3.7/site-packages (from tensorboard<2.12,>=2.11->tensorflow) (2.2.2)\n",
      "Requirement already satisfied: google-auth<3,>=1.6.3 in /home/cioflanc/miniconda3/envs/eeml2023/lib/python3.7/site-packages (from tensorboard<2.12,>=2.11->tensorflow) (2.21.0)\n",
      "Requirement already satisfied: google-auth-oauthlib<0.5,>=0.4.1 in /home/cioflanc/miniconda3/envs/eeml2023/lib/python3.7/site-packages (from tensorboard<2.12,>=2.11->tensorflow) (0.4.6)\n",
      "Requirement already satisfied: tensorboard-data-server<0.7.0,>=0.6.0 in /home/cioflanc/miniconda3/envs/eeml2023/lib/python3.7/site-packages (from tensorboard<2.12,>=2.11->tensorflow) (0.6.1)\n",
      "Requirement already satisfied: tensorboard-plugin-wit>=1.6.0 in /home/cioflanc/miniconda3/envs/eeml2023/lib/python3.7/site-packages (from tensorboard<2.12,>=2.11->tensorflow) (1.8.1)\n",
      "Requirement already satisfied: markdown>=2.6.8 in /home/cioflanc/miniconda3/envs/eeml2023/lib/python3.7/site-packages (from tensorboard<2.12,>=2.11->tensorflow) (3.4.3)\n",
      "Requirement already satisfied: pyasn1-modules>=0.2.1 in /home/cioflanc/miniconda3/envs/eeml2023/lib/python3.7/site-packages (from google-auth<3,>=1.6.3->tensorboard<2.12,>=2.11->tensorflow) (0.3.0)\n",
      "Requirement already satisfied: cachetools<6.0,>=2.0.0 in /home/cioflanc/miniconda3/envs/eeml2023/lib/python3.7/site-packages (from google-auth<3,>=1.6.3->tensorboard<2.12,>=2.11->tensorflow) (5.3.1)\n",
      "Requirement already satisfied: urllib3<2.0 in /home/cioflanc/miniconda3/envs/eeml2023/lib/python3.7/site-packages (from google-auth<3,>=1.6.3->tensorboard<2.12,>=2.11->tensorflow) (1.26.16)\n",
      "Requirement already satisfied: rsa<5,>=3.1.4 in /home/cioflanc/miniconda3/envs/eeml2023/lib/python3.7/site-packages (from google-auth<3,>=1.6.3->tensorboard<2.12,>=2.11->tensorflow) (4.9)\n",
      "Requirement already satisfied: requests-oauthlib>=0.7.0 in /home/cioflanc/miniconda3/envs/eeml2023/lib/python3.7/site-packages (from google-auth-oauthlib<0.5,>=0.4.1->tensorboard<2.12,>=2.11->tensorflow) (1.3.1)\n",
      "Requirement already satisfied: importlib-metadata>=4.4 in /home/cioflanc/miniconda3/envs/eeml2023/lib/python3.7/site-packages (from markdown>=2.6.8->tensorboard<2.12,>=2.11->tensorflow) (6.7.0)\n",
      "Requirement already satisfied: chardet<5,>=3.0.2 in /home/cioflanc/miniconda3/envs/eeml2023/lib/python3.7/site-packages (from requests<3,>=2.21.0->tensorboard<2.12,>=2.11->tensorflow) (4.0.0)\n",
      "Requirement already satisfied: certifi>=2017.4.17 in /home/cioflanc/miniconda3/envs/eeml2023/lib/python3.7/site-packages (from requests<3,>=2.21.0->tensorboard<2.12,>=2.11->tensorflow) (2022.12.7)\n",
      "Requirement already satisfied: idna<3,>=2.5 in /home/cioflanc/miniconda3/envs/eeml2023/lib/python3.7/site-packages (from requests<3,>=2.21.0->tensorboard<2.12,>=2.11->tensorflow) (2.10)\n",
      "Requirement already satisfied: MarkupSafe>=2.1.1 in /home/cioflanc/.local/lib/python3.7/site-packages (from werkzeug>=1.0.1->tensorboard<2.12,>=2.11->tensorflow) (2.1.2)\n",
      "Requirement already satisfied: zipp>=0.5 in /home/cioflanc/miniconda3/envs/eeml2023/lib/python3.7/site-packages (from importlib-metadata>=4.4->markdown>=2.6.8->tensorboard<2.12,>=2.11->tensorflow) (3.15.0)\n",
      "Requirement already satisfied: pyasn1<0.6.0,>=0.4.6 in /home/cioflanc/miniconda3/envs/eeml2023/lib/python3.7/site-packages (from pyasn1-modules>=0.2.1->google-auth<3,>=1.6.3->tensorboard<2.12,>=2.11->tensorflow) (0.5.0)\n",
      "Requirement already satisfied: oauthlib>=3.0.0 in /home/cioflanc/miniconda3/envs/eeml2023/lib/python3.7/site-packages (from requests-oauthlib>=0.7.0->google-auth-oauthlib<0.5,>=0.4.1->tensorboard<2.12,>=2.11->tensorflow) (3.2.2)\n",
      "Looking in indexes: https://pypi.org/simple, https://pypi.ngc.nvidia.com\n",
      "Requirement already satisfied: tensorflow_datasets in /home/cioflanc/miniconda3/envs/eeml2023/lib/python3.7/site-packages (4.8.2)\n",
      "Requirement already satisfied: psutil in /home/cioflanc/miniconda3/envs/eeml2023/lib/python3.7/site-packages (from tensorflow_datasets) (5.9.5)\n",
      "Requirement already satisfied: termcolor in /home/cioflanc/miniconda3/envs/eeml2023/lib/python3.7/site-packages (from tensorflow_datasets) (2.3.0)\n",
      "Requirement already satisfied: etils[enp,epath]>=0.9.0 in /home/cioflanc/miniconda3/envs/eeml2023/lib/python3.7/site-packages (from tensorflow_datasets) (0.9.0)\n",
      "Requirement already satisfied: importlib-resources in /home/cioflanc/miniconda3/envs/eeml2023/lib/python3.7/site-packages (from tensorflow_datasets) (5.12.0)\n",
      "Requirement already satisfied: requests>=2.19.0 in /home/cioflanc/.local/lib/python3.7/site-packages (from tensorflow_datasets) (2.25.1)\n",
      "Requirement already satisfied: toml in /home/cioflanc/.local/lib/python3.7/site-packages (from tensorflow_datasets) (0.10.2)\n",
      "Requirement already satisfied: promise in /home/cioflanc/miniconda3/envs/eeml2023/lib/python3.7/site-packages (from tensorflow_datasets) (2.3)\n",
      "Requirement already satisfied: numpy in /home/cioflanc/miniconda3/envs/eeml2023/lib/python3.7/site-packages (from tensorflow_datasets) (1.21.6)\n",
      "Requirement already satisfied: dm-tree in /home/cioflanc/miniconda3/envs/eeml2023/lib/python3.7/site-packages (from tensorflow_datasets) (0.1.8)\n",
      "Requirement already satisfied: absl-py in /home/cioflanc/miniconda3/envs/eeml2023/lib/python3.7/site-packages (from tensorflow_datasets) (1.4.0)\n",
      "Requirement already satisfied: tqdm in /home/cioflanc/.local/lib/python3.7/site-packages (from tensorflow_datasets) (4.60.0)\n",
      "Requirement already satisfied: click in /home/cioflanc/miniconda3/envs/eeml2023/lib/python3.7/site-packages (from tensorflow_datasets) (8.1.4)\n",
      "Requirement already satisfied: tensorflow-metadata in /home/cioflanc/miniconda3/envs/eeml2023/lib/python3.7/site-packages (from tensorflow_datasets) (1.12.0)\n",
      "Requirement already satisfied: typing-extensions in /home/cioflanc/miniconda3/envs/eeml2023/lib/python3.7/site-packages (from tensorflow_datasets) (4.7.1)\n",
      "Requirement already satisfied: wrapt in /home/cioflanc/miniconda3/envs/eeml2023/lib/python3.7/site-packages (from tensorflow_datasets) (1.15.0)\n",
      "Requirement already satisfied: dill in /home/cioflanc/miniconda3/envs/eeml2023/lib/python3.7/site-packages (from tensorflow_datasets) (0.3.6)\n"
     ]
    },
    {
     "name": "stdout",
     "output_type": "stream",
     "text": [
      "Requirement already satisfied: protobuf>=3.12.2 in /home/cioflanc/miniconda3/envs/eeml2023/lib/python3.7/site-packages (from tensorflow_datasets) (3.19.6)\n",
      "Requirement already satisfied: zipp in /home/cioflanc/miniconda3/envs/eeml2023/lib/python3.7/site-packages (from etils[enp,epath]>=0.9.0->tensorflow_datasets) (3.15.0)\n",
      "Requirement already satisfied: idna<3,>=2.5 in /home/cioflanc/miniconda3/envs/eeml2023/lib/python3.7/site-packages (from requests>=2.19.0->tensorflow_datasets) (2.10)\n",
      "Requirement already satisfied: urllib3<1.27,>=1.21.1 in /home/cioflanc/miniconda3/envs/eeml2023/lib/python3.7/site-packages (from requests>=2.19.0->tensorflow_datasets) (1.26.16)\n",
      "Requirement already satisfied: certifi>=2017.4.17 in /home/cioflanc/miniconda3/envs/eeml2023/lib/python3.7/site-packages (from requests>=2.19.0->tensorflow_datasets) (2022.12.7)\n",
      "Requirement already satisfied: chardet<5,>=3.0.2 in /home/cioflanc/miniconda3/envs/eeml2023/lib/python3.7/site-packages (from requests>=2.19.0->tensorflow_datasets) (4.0.0)\n",
      "Requirement already satisfied: importlib-metadata in /home/cioflanc/miniconda3/envs/eeml2023/lib/python3.7/site-packages (from click->tensorflow_datasets) (6.7.0)\n",
      "Requirement already satisfied: six in /home/cioflanc/miniconda3/envs/eeml2023/lib/python3.7/site-packages (from promise->tensorflow_datasets) (1.16.0)\n",
      "Requirement already satisfied: googleapis-common-protos<2,>=1.52.0 in /home/cioflanc/miniconda3/envs/eeml2023/lib/python3.7/site-packages (from tensorflow-metadata->tensorflow_datasets) (1.59.1)\n"
     ]
    }
   ],
   "source": [
    "# Imports related to types\n",
    "from typing import Any, Mapping, Iterator, Tuple\n",
    "import enum\n",
    "\n",
    "import optax\n",
    "\n",
    "!pip install tensorflow\n",
    "!pip install tensorflow_datasets\n",
    "\n",
    "import tensorflow_datasets as tfds\n",
    "import numpy as np\n",
    "\n",
    "# Don't forget to select GPU runtime environment in Runtime -> Change runtime type\n",
    "devices = jax.devices()\n",
    "\n",
    "# CPU\n",
    "# if not str(devices[0]).startswith('gpu'):\n",
    "#   raise SystemError('GPU device not found')\n",
    "# print('Found GPU at: {}'.format(devices[0]))\n",
    "\n",
    "# Define our container types\n",
    "OptState = Any\n",
    "Batch = Mapping[str, np.ndarray]"
   ]
  },
  {
   "cell_type": "markdown",
   "metadata": {
    "id": "6r0EfeAqIZkS"
   },
   "source": [
    "### TFDS datasets (MNIST)"
   ]
  },
  {
   "cell_type": "markdown",
   "metadata": {
    "id": "FD8iKiwRvtiP"
   },
   "source": [
    "JAX does not support data loading or preprocessing, therefore we use tensorflow datasets (TFDS).\n",
    "\n",
    "TFDS comes with existing datasets (such as MNIST) that have defined splits. TFDS follows a builder-style api where we can transform the dataset by chaining transformations. Some important ones are:\n",
    "- `repeat` - cycles the data items indefinitely\n",
    "- `cache` - caches the dataset in memory (only use with small datasets, and call before repeat)\n",
    "- `shuffle(buffer_size)` - shuffles the data points in a window of size `buffer_size`\n",
    "- `batch(batch_size)` - batches the elements into batches of `batch_size`\n",
    "- `as_numpy_iterator()` - converts tensorflow tensors to numpy arrays that jax can work with\n",
    "- `map(fn)` - maps the function onto the elements (fn needs to be in tensorflow code)"
   ]
  },
  {
   "cell_type": "code",
   "execution_count": 13,
   "metadata": {
    "id": "ZDP4M0aVWpdB"
   },
   "outputs": [],
   "source": [
    "# We use TF datasets; JAX does not support data loading or preprocessing.\n",
    "NUM_CLASSES = 10  # MNIST has 10 classes, corresponding to the different digits.\n",
    "def load_dataset(\n",
    "    split: str,\n",
    "    *,\n",
    "    is_training: bool,\n",
    "    batch_size: int,\n",
    ") -> Iterator[Batch]:\n",
    "  \"\"\"Loads the dataset as a generator of batches.\"\"\"\n",
    "  ds = tfds.load('mnist:3.*.*', split=split).cache().repeat()\n",
    "  if is_training:\n",
    "    ds = ds.shuffle(10 * batch_size, seed=0)\n",
    "  ds = ds.batch(batch_size)\n",
    "  return ds.as_numpy_iterator()"
   ]
  },
  {
   "cell_type": "markdown",
   "metadata": {
    "id": "GHiamzbGzOvU"
   },
   "source": [
    "### Exploring the dataset"
   ]
  },
  {
   "cell_type": "code",
   "execution_count": 14,
   "metadata": {
    "id": "A2OYWEKKgVEJ"
   },
   "outputs": [],
   "source": [
    "# Function to display images\n",
    "MAX_IMAGES = 10\n",
    "def gallery(images, labels, title='Input images'):\n",
    "  class_dict = [u'zero', u'one', u'two', u'three', u'four', u'five', u'six', u'seven', u'eight', u'nine']\n",
    "  num_frames, h, w, num_channels = images.shape\n",
    "  num_frames = min(num_frames, MAX_IMAGES)\n",
    "  ff, axes = plt.subplots(1, num_frames,\n",
    "                          figsize=(30, 30),\n",
    "                          subplot_kw={'xticks': [], 'yticks': []})\n",
    "  if images.min() < 0:\n",
    "    images = (images + 1.) / 2.\n",
    "  for i in range(0, num_frames):\n",
    "    if num_channels == 3:\n",
    "      axes[i].imshow(np.squeeze(images[i]))\n",
    "    else:\n",
    "      axes[i].imshow(np.squeeze(images[i]), cmap='gray')\n",
    "    axes[i].set_title(class_dict[labels[i]], fontsize=28)\n",
    "    plt.setp(axes[i].get_xticklabels(), visible=False)\n",
    "    plt.setp(axes[i].get_yticklabels(), visible=False)\n",
    "  ff.subplots_adjust(wspace=0.1)\n",
    "  plt.show()"
   ]
  },
  {
   "cell_type": "code",
   "execution_count": 15,
   "metadata": {
    "id": "uTtne8cbZABG"
   },
   "outputs": [
    {
     "name": "stderr",
     "output_type": "stream",
     "text": [
      "2023-07-10 17:27:24.060160: W tensorflow/compiler/xla/stream_executor/platform/default/dso_loader.cc:64] Could not load dynamic library 'libcudart.so.11.0'; dlerror: libcudart.so.11.0: cannot open shared object file: No such file or directory\n",
      "2023-07-10 17:27:24.958902: W tensorflow/compiler/xla/stream_executor/platform/default/dso_loader.cc:64] Could not load dynamic library 'libnvinfer.so.7'; dlerror: libnvinfer.so.7: cannot open shared object file: No such file or directory\n",
      "2023-07-10 17:27:24.959008: W tensorflow/compiler/xla/stream_executor/platform/default/dso_loader.cc:64] Could not load dynamic library 'libnvinfer_plugin.so.7'; dlerror: libnvinfer_plugin.so.7: cannot open shared object file: No such file or directory\n",
      "2023-07-10 17:27:24.959016: W tensorflow/compiler/tf2tensorrt/utils/py_utils.cc:38] TF-TRT Warning: Cannot dlopen some TensorRT libraries. If you would like to use Nvidia GPU with TensorRT, please make sure the missing libraries mentioned above are installed properly.\n",
      "2023-07-10 17:27:25.793816: W tensorflow/core/platform/cloud/google_auth_provider.cc:184] All attempts to get a Google authentication bearer token failed, returning an empty token. Retrieving token from files failed with \"NOT_FOUND: Could not locate the credentials file.\". Retrieving token from GCE failed with \"FAILED_PRECONDITION: Error executing an HTTP request: libcurl code 6 meaning 'Couldn't resolve host name', error details: Could not resolve host: metadata\".\n"
     ]
    },
    {
     "name": "stdout",
     "output_type": "stream",
     "text": [
      "Downloading and preparing dataset 11.06 MiB (download: 11.06 MiB, generated: 21.00 MiB, total: 32.06 MiB) to /home/cioflanc/tensorflow_datasets/mnist/3.0.1...\n"
     ]
    },
    {
     "data": {
      "application/json": {
       "ascii": false,
       "bar_format": null,
       "colour": null,
       "elapsed": 0.01578068733215332,
       "initial": 0,
       "n": 0,
       "ncols": null,
       "nrows": 31,
       "postfix": null,
       "prefix": "Dl Completed...",
       "rate": null,
       "total": 5,
       "unit": " file",
       "unit_divisor": 1000,
       "unit_scale": false
      },
      "application/vnd.jupyter.widget-view+json": {
       "model_id": "b12b7aedd741406eb6367438bc604601",
       "version_major": 2,
       "version_minor": 0
      },
      "text/plain": [
       "Dl Completed...:   0%|          | 0/5 [00:00<?, ? file/s]"
      ]
     },
     "metadata": {},
     "output_type": "display_data"
    },
    {
     "name": "stdout",
     "output_type": "stream",
     "text": [
      "Dataset mnist downloaded and prepared to /home/cioflanc/tensorflow_datasets/mnist/3.0.1. Subsequent calls will reuse this data.\n"
     ]
    },
    {
     "name": "stderr",
     "output_type": "stream",
     "text": [
      "2023-07-10 17:27:51.606112: W tensorflow/compiler/xla/stream_executor/platform/default/dso_loader.cc:64] Could not load dynamic library 'libcuda.so.1'; dlerror: libcuda.so.1: cannot open shared object file: No such file or directory\n",
      "2023-07-10 17:27:51.606152: W tensorflow/compiler/xla/stream_executor/cuda/cuda_driver.cc:265] failed call to cuInit: UNKNOWN ERROR (303)\n"
     ]
    }
   ],
   "source": [
    "# Display some training images with their labels.\n",
    "# First, create a dataset iterator for fetching batches.\n",
    "display_dataset_iter = iter(load_dataset('train', is_training=True, batch_size=10))"
   ]
  },
  {
   "cell_type": "code",
   "execution_count": 16,
   "metadata": {
    "id": "SJmhwRhbx3ZU"
   },
   "outputs": [
    {
     "data": {
      "text/plain": [
       "(10, 28, 28, 1)"
      ]
     },
     "execution_count": 16,
     "metadata": {},
     "output_type": "execute_result"
    }
   ],
   "source": [
    "# Images have shape=(10, 28, 28, 1), batches of 10 images of 28x28 size with 1 color channel\n",
    "next(display_dataset_iter)['image'].shape"
   ]
  },
  {
   "cell_type": "code",
   "execution_count": 17,
   "metadata": {
    "id": "OTODP7m2yYLI"
   },
   "outputs": [
    {
     "data": {
      "text/plain": [
       "(10,)"
      ]
     },
     "execution_count": 17,
     "metadata": {},
     "output_type": "execute_result"
    }
   ],
   "source": [
    "# Labels have shape=(10, ) as they are integers between [0, 9]\n",
    "next(display_dataset_iter)['label'].shape"
   ]
  },
  {
   "cell_type": "code",
   "execution_count": 18,
   "metadata": {
    "id": "V2VFyzjwZXbQ"
   },
   "outputs": [
    {
     "data": {
      "image/png": "[encoded data removed]",
      "text/plain": [
       "<Figure size 3000x3000 with 10 Axes>"
      ]
     },
     "metadata": {},
     "output_type": "display_data"
    }
   ],
   "source": [
    "# Then get a batch and display it.\n",
    "display_batch = next(display_dataset_iter)\n",
    "gallery(display_batch['image'], display_batch['label'])"
   ]
  },
  {
   "cell_type": "markdown",
   "metadata": {
    "id": "3htdVcBhP2dD"
   },
   "source": [
    "### Training hyperparams"
   ]
  },
  {
   "cell_type": "code",
   "execution_count": 19,
   "metadata": {
    "id": "UyL8nAD-OTn9"
   },
   "outputs": [],
   "source": [
    "# There are 60k examples in the training\n",
    "# data. We consider training batches of 1000 examples.\n",
    "# We train for 10 epochs with constant learning rate\n",
    "# of 1e-3.\n",
    "# We use weight decay (L2 regularization), adding\n",
    "# the sum of the l2 norms of the weights to the\n",
    "# loss with a weight of 1e-4.\n",
    "TRAIN_BATCH_SIZE = 1000  #@param\n",
    "EVAL_BATCH_SIZE = 10000\n",
    "NUM_EPOCHS = 30  #@param\n",
    "lr = 1e-3 #@param\n",
    "WEIGHT_DECAY = 1e-4  #@param\n",
    "\n",
    "TRAIN_NUM_EXAMPLES = 60000  # Number of training examples in MNIST."
   ]
  },
  {
   "cell_type": "markdown",
   "metadata": {
    "id": "00m3RHu0BTir"
   },
   "source": [
    "### Exercise: define an MLP model in Haiku"
   ]
  },
  {
   "cell_type": "code",
   "execution_count": null,
   "metadata": {
    "id": "0reALqi804FL"
   },
   "outputs": [],
   "source": [
    "class MyMLP(hk.Module):\n",
    "\n",
    "  def __init__(self, hidden_sizes, num_outputs, name=None):\n",
    "    super().__init__(name=name)\n",
    "    self._hidden_sizes = hidden_sizes\n",
    "    self._num_outputs = num_outputs\n",
    "\n",
    "  def __call__(self, batch: Batch):\n",
    "    # The input images are 28x28x1, so we first flatten them to apply linear (fully-connected) layers.\n",
    "    x = hk.Flatten()(batch) # B x 784\n",
    "\n",
    "    # We apply a sequence of linear layers.\n",
    "    for hidden_size in self._hidden_sizes:\n",
    "      # TODO: Apply a hk.Linear\n",
    "\n",
    "      # TODO: Introduce non-linearily (e.g. jax.nn.relu)\n",
    "\n",
    "\n",
    "    # TODO: Apply a final linear layer\n",
    "    # to get B x num_outputs\n",
    "    return x"
   ]
  },
  {
   "cell_type": "code",
   "execution_count": null,
   "metadata": {
    "id": "-t72ji7Dt8J_"
   },
   "outputs": [],
   "source": [
    "# Forward fn for MLP including shaping images to right dimensions\n",
    "def mlp_fn(batch: Batch) -> jnp.ndarray:\n",
    "  \"\"\"Standard LeNet-300-100 MLP network.\"\"\"\n",
    "  # The images are in [0, 255], uint8; we need to convert to float and normalise\n",
    "  x = batch['image'].astype(jnp.float32) / 255.\n",
    "\n",
    "  # TODO: Use your MLP\n",
    "\n",
    "  return mlp(x)"
   ]
  },
  {
   "cell_type": "markdown",
   "metadata": {
    "id": "Gk5lbhWTtq2K"
   },
   "source": [
    "### Exercise: Can you apply a transformer?"
   ]
  },
  {
   "cell_type": "code",
   "execution_count": null,
   "metadata": {
    "id": "o6Jz_Gr56O68"
   },
   "outputs": [],
   "source": [
    "class MyTransformer(hk.Module):\n",
    "  \"\"\"Simple transformer module.\"\"\"\n",
    "\n",
    "  def __init__(self, num_heads, num_blocks, attn_size, dropout_rate, name=None):\n",
    "    super().__init__(name=name)\n",
    "    self._num_heads = num_heads        # Number of attention heads.\n",
    "    self._num_blocks = num_blocks      # Number of blocks (attention + dense)\n",
    "    self._attn_size = attn_size        # Size of the (key, query, value) vectors\n",
    "    self._dropout_rate = dropout_rate  # Probability with which to apply dropout.\n",
    "\n",
    "  def __call__(self, embeddings: Batch):\n",
    "    _, seq_len, model_size = embeddings.shape\n",
    "    h = embeddings\n",
    "    for _ in range(self._num_blocks):\n",
    "      # Attention\n",
    "      attn_block = hk.MultiHeadAttention(\n",
    "          num_heads=self._num_heads,\n",
    "          key_size=self._attn_size,\n",
    "          model_size=model_size,\n",
    "          w_init=hk.initializers.VarianceScaling(2 / self._num_blocks)\n",
    "      )\n",
    "      h_norm = hk.LayerNorm(axis=-1, create_scale=True, create_offset=True)(h)\n",
    "      h_attn = attn_block(h_norm, h_norm, h_norm)\n",
    "      h_attn = hk.dropout(hk.next_rng_key(), self._dropout_rate, h_attn)\n",
    "      h = h + h_attn # residual\n",
    "\n",
    "      # Then the dense block.\n",
    "      dense_block = hk.Sequential([\n",
    "          hk.Linear(2*model_size),\n",
    "          jax.nn.gelu,\n",
    "          hk.Linear(model_size),\n",
    "      ])\n",
    "      h_norm = hk.LayerNorm(axis=-1, create_scale=True, create_offset=True)(h)\n",
    "      h_dense = dense_block(h_norm)\n",
    "      h_dense = hk.dropout(hk.next_rng_key(), self._dropout_rate, h_dense)\n",
    "      h = h + h_dense\n",
    "\n",
    "    return hk.LayerNorm(axis=-1, create_scale=True, create_offset=True)(h)"
   ]
  },
  {
   "cell_type": "code",
   "execution_count": null,
   "metadata": {
    "id": "7j58v6LhWjrQ"
   },
   "outputs": [],
   "source": [
    "def transformer_fn(batch: Batch) -> jnp.ndarray:\n",
    "  \"\"\"Standard LeNet-300-100 MLP network.\"\"\"\n",
    "  # The images are in [0, 255], uint8; we need to convert to float and normalise\n",
    "  x = batch['image'].astype(jnp.float32) / 255.\n",
    "\n",
    "  # TODO: Shape the batch into embeddings of shape\n",
    "  # BATCH_SIZE x NUM_TOKENS x EMBEDDING_SIZE\n",
    "  # IDEA: You could use your MLP\n",
    "\n",
    "  transformer = MyTransformer(num_heads=2, num_blocks=2, attn_size=16, dropout_rate=0.3)\n",
    "  transformed = transformer(embeddings)\n",
    "\n",
    "  # TODO: Shape the result into required number of classes\n",
    "  # return ..."
   ]
  },
  {
   "cell_type": "markdown",
   "metadata": {
    "id": "hhR_YrTRuMTT"
   },
   "source": [
    "### Model selection\n",
    "Select the MLP first, we will get to the transformer exercise later."
   ]
  },
  {
   "cell_type": "code",
   "execution_count": null,
   "metadata": {
    "id": "RQN5Fp59Dvae"
   },
   "outputs": [],
   "source": [
    "model = 'mlp_fn' #@param [\"mlp_fn\", \"transformer_fn\"] {type:\"string\"}\n"
   ]
  },
  {
   "cell_type": "markdown",
   "metadata": {
    "id": "CH5-IvPkMftZ"
   },
   "source": [
    "### Retrieve pure functions for our model (`init`, `apply`) using `hk.transform`\n",
    "\n"
   ]
  },
  {
   "cell_type": "code",
   "execution_count": null,
   "metadata": {
    "id": "a9YzGJ_4WuE5"
   },
   "outputs": [],
   "source": [
    "if model == 'mlp_fn':\n",
    "  net_fn = mlp_fn\n",
    "elif model == 'transformer_fn':\n",
    "  net_fn = transformer_fn\n",
    "else:\n",
    "  raise ValueError('Model unavailable')\n",
    "\n",
    "# Since we don't store additional state statistics, e.g. needed in batch norm,\n",
    "# we use `hk.transform`. When we use batch_norm, we will use `hk.transform_with_state`.\n",
    "net = hk.transform(net_fn)\n",
    "# We will use the pure functions as net.init(...) and net.apply(...)"
   ]
  },
  {
   "cell_type": "markdown",
   "metadata": {
    "id": "GA81esw-OoBK"
   },
   "source": [
    "### Exercise: define the optimisation objective (loss)"
   ]
  },
  {
   "cell_type": "code",
   "execution_count": null,
   "metadata": {
    "id": "OA1FdFSwWwtb"
   },
   "outputs": [],
   "source": [
    "# We use Adam optimizer here. Others are possible, e.g. sgd with momentum.\n",
    "opt = optax.adam(lr)\n",
    "\n",
    "# Training loss: cross-entropy plus weight decay regularization\n",
    "def loss(params: hk.Params, batch: Batch) -> jnp.ndarray:\n",
    "  \"\"\"Compute the loss of the network, including L2 for regularization.\"\"\"\n",
    "\n",
    "  # Get network predictions (B x NUM_CLASSES)\n",
    "  logits = net.apply(params, random.PRNGKey(0), batch)\n",
    "\n",
    "  # Generate one_hot labels from index classes\n",
    "  labels = jax.nn.one_hot(batch['label'], NUM_CLASSES)\n",
    "\n",
    "  # TODO: Compute mean softmax cross entropy over the batch\n",
    "  # softmax_xent =\n",
    "\n",
    "  # Compute the weight decay loss by penalising the norm of parameters\n",
    "  l2_loss = 0.5 * sum(jnp.sum(jnp.square(p)) for p in jax.tree_util.tree_leaves(params))\n",
    "\n",
    "  return softmax_xent + WEIGHT_DECAY * l2_loss"
   ]
  },
  {
   "cell_type": "markdown",
   "metadata": {
    "id": "0SGCtelDQfOv"
   },
   "source": [
    "### Define training step (parameters update)"
   ]
  },
  {
   "cell_type": "code",
   "execution_count": null,
   "metadata": {
    "id": "PsjUbkMWQlt-"
   },
   "outputs": [],
   "source": [
    "@jax.jit\n",
    "def update(\n",
    "    params: hk.Params,\n",
    "    opt_state: OptState,\n",
    "    batch: Batch,\n",
    ") -> Tuple[hk.Params, OptState]:\n",
    "  \"\"\"Learning rule (stochastic gradient descent).\"\"\"\n",
    "  # Use jax transformation `grad` to compute gradients;\n",
    "  # it expects the prameters of the model and the input batch\n",
    "  loss_value, grads = jax.value_and_grad(loss)(params, batch)\n",
    "\n",
    "  # Compute parameters updates based on gradients and optimiser state\n",
    "  updates, opt_state = opt.update(grads, opt_state)\n",
    "\n",
    "  # Apply updates to parameters\n",
    "  new_params = optax.apply_updates(params, updates)\n",
    "  return new_params, opt_state, loss_value"
   ]
  },
  {
   "cell_type": "markdown",
   "metadata": {
    "id": "RubrTm2_WOiP"
   },
   "source": [
    "### Initialise the model, the optimiser and dataset."
   ]
  },
  {
   "cell_type": "code",
   "execution_count": null,
   "metadata": {
    "id": "2a8lZDaAmH3B"
   },
   "outputs": [],
   "source": [
    "# Make datasets for train and test\n",
    "train_dataset = load_dataset('train', is_training=True, batch_size=TRAIN_BATCH_SIZE)\n",
    "train_eval_dataset = load_dataset('train', is_training=False, batch_size=EVAL_BATCH_SIZE)\n",
    "test_eval_dataset = load_dataset('test', is_training=False, batch_size=EVAL_BATCH_SIZE)\n",
    "\n",
    "# Set up dataset iterators.\n",
    "train_ds_iterator = iter(train_dataset)\n",
    "train_eval_ds_iterator = iter(train_eval_dataset)\n",
    "test_eval_ds_iterator = iter(test_eval_dataset)\n",
    "\n",
    "\n",
    "# Draw a data batch\n",
    "batch = next(train_ds_iterator)\n",
    "# Initialize model\n",
    "params = net.init(jax.random.PRNGKey(42), batch)\n",
    "#Initialize optimiser\n",
    "opt_state = opt.init(params)"
   ]
  },
  {
   "cell_type": "markdown",
   "metadata": {
    "id": "h2yunmBjWyPQ"
   },
   "source": [
    "### Visualise parameter shapes"
   ]
  },
  {
   "cell_type": "code",
   "execution_count": null,
   "metadata": {
    "id": "euhMKRF_W5_D"
   },
   "outputs": [],
   "source": [
    "# Let's see how many parameters in our network and their shapes\n",
    "jax.tree_map(lambda x: x.shape, params)"
   ]
  },
  {
   "cell_type": "markdown",
   "metadata": {
    "id": "KA_CZhFHQDDN"
   },
   "source": [
    "### Evaluation metric"
   ]
  },
  {
   "cell_type": "code",
   "execution_count": null,
   "metadata": {
    "id": "dlEMA3RCXBU_"
   },
   "outputs": [],
   "source": [
    "# Classification accuracy\n",
    "@jax.jit\n",
    "def accuracy(params: hk.Params, batch: Batch) -> jnp.ndarray:\n",
    "  # Get network predictions\n",
    "  predictions = net.apply(params, random.PRNGKey(0), batch)\n",
    "  # Return accuracy = how many predictions match the ground truth\n",
    "  return jnp.mean(jnp.argmax(predictions, axis=-1) == batch['label'])"
   ]
  },
  {
   "cell_type": "markdown",
   "metadata": {
    "id": "Uq1OddpfX-6y"
   },
   "source": [
    "### Accuracy of the untrained model (should be ~10%)"
   ]
  },
  {
   "cell_type": "code",
   "execution_count": null,
   "metadata": {
    "id": "dHzblZx6X9jH"
   },
   "outputs": [],
   "source": [
    "# Run accuracy on the test dataset\n",
    "test_accuracy = accuracy(params, next(iter(test_eval_dataset)))\n",
    "print('Test accuracy %f '% test_accuracy)"
   ]
  },
  {
   "cell_type": "markdown",
   "metadata": {
    "id": "NjeMJxKYaeN-"
   },
   "source": [
    "### Run one training step"
   ]
  },
  {
   "cell_type": "code",
   "execution_count": null,
   "metadata": {
    "id": "ejfhiuoiaiZ6"
   },
   "outputs": [],
   "source": [
    "# First, let's do one step and check if the updates lead to decrease in error\n",
    "params, opt_state, loss_before_train = update(params, opt_state, batch)\n",
    "print('Loss before train %f' % loss_before_train)\n",
    "new_loss = loss(params, next(train_ds_iterator))\n",
    "new_loss_same_batch = loss(params, batch)\n",
    "print('Loss after one step of training, same batch %f, different batch %f' % (new_loss_same_batch, new_loss))"
   ]
  },
  {
   "cell_type": "markdown",
   "metadata": {
    "id": "n9QFlfNTW-GZ"
   },
   "source": [
    "### Exercise: Training loop + periodical eval"
   ]
  },
  {
   "cell_type": "code",
   "execution_count": null,
   "metadata": {
    "id": "fAR5joBwV5cT"
   },
   "outputs": [],
   "source": [
    "# Train/eval loop.\n",
    "print(\"Training..\")\n",
    "for epoch in range(NUM_EPOCHS):\n",
    "  for step in range(TRAIN_NUM_EXAMPLES // TRAIN_BATCH_SIZE):\n",
    "    # Evaluate classification accuracy on train & test sets.\n",
    "    # evaluate train_accuracy on train set\n",
    "    train_accuracy = accuracy(params, next(train_eval_ds_iterator))\n",
    "    # evaluate test_accuracy on test set\n",
    "    test_accuracy = accuracy(params, next(test_eval_ds_iterator))\n",
    "\n",
    "    # Update step on the next batch of training examples.\n",
    "    next_batch = next(train_ds_iterator)\n",
    "    params, opt_state, loss_value = update(params, opt_state, next_batch)\n",
    "\n",
    "  print('Epoch %d Loss %f Train / Test accuracy: %f / %f' % (\n",
    "      epoch+1, loss_value, train_accuracy, test_accuracy))"
   ]
  },
  {
   "cell_type": "markdown",
   "metadata": {
    "id": "JNYLWtvmao4i"
   },
   "source": [
    "### Visualise network predictions after training; most of the predictions should be correct."
   ]
  },
  {
   "cell_type": "code",
   "execution_count": null,
   "metadata": {
    "id": "mGb8B6n6au9L"
   },
   "outputs": [],
   "source": [
    "# Get predictions for the same batch\n",
    "predictions = net.apply(params, random.PRNGKey(2), batch)\n",
    "pred_labels = jnp.argmax(predictions, axis=-1)\n",
    "gallery(batch['image'], pred_labels)"
   ]
  },
  {
   "cell_type": "markdown",
   "metadata": {
    "id": "mDhSCwkyytMy"
   },
   "source": [
    "## Exercise (open ended): Image classifier\n",
    "Train a classifier on the [cifar10 tfds dataset](https://www.tensorflow.org/datasets/catalog/cifar10). This dataset comes with 60000 (5:1 train:test split) 32x32 colour images in 10 classes. Feel free to change all the necessary code, or use the CNN in the next section."
   ]
  },
  {
   "cell_type": "markdown",
   "metadata": {
    "id": "ifFR1Iq9YChf"
   },
   "source": [
    "## Flax -- alternative library on top of JAX\n",
    "\n",
    "[Flax](https://github.com/google/flax) is another neural network library and ecosystem for JAX designed for flexibility.\n",
    "\n",
    "The link above provides a good quick intro, and the [documentation](https://flax.readthedocs.io/en/latest/index.html) has good examples, including an [annotated MNIST Example](https://colab.sandbox.google.com/github/google/flax/blob/1e51ad8cd45d47f5003b7c3606ad20b62543e97b/docs/notebooks/annotated_mnist.ipynb). We reproduce a version of the MNIST example here, that is analogous to the Haiku section above.\n",
    "\n",
    "Flax comes with:\n",
    "\n",
    "* **Neural network API** (`flax.linen`): Dense, Conv, {Batch|Layer|Group} Norm, Attention, Pooling, {LSTM|GRU} Cell, Dropout\n",
    "* **Optimizers** (`flax.optim`): SGD, Momentum, Adam, LARS, Adagrad, LAMB, RMSprop\n",
    "* And much more, including utilities, worked examples and tuned, large scale examples.\n",
    "\n",
    "While flax includes optimizers, we can use `optax` to optimize the parameters in `flax.linen` networks. That is the approach we will take here.\n"
   ]
  },
  {
   "cell_type": "markdown",
   "metadata": {
    "id": "narnOeEHkEqh"
   },
   "source": [
    "`haiku` and `flax` both provide an OOP interface for neural nets; they both produce `init()` and `apply()` functions for their modules. Some differences you will notice are:\n",
    "\n",
    "1. Slightly different ways of declaring and working with modules.\n",
    "2. Different signature for `apply()`.\n",
    "3. The common `flax` pattern of passing around a full \"TrainState\", while `haiku` tends to keep `params`, `optimizer_state`, etc separate.\n",
    "\n",
    "Due to these differences we will rewrite much of the training and evaluation functions from before -- even though the changes are fairly minimal.\n",
    "\n",
    "To showcase additional features, we will use a simple convnet and SGD with momentum optimizer."
   ]
  },
  {
   "cell_type": "code",
   "execution_count": null,
   "metadata": {
    "id": "-kDzToFNj9SB"
   },
   "outputs": [],
   "source": [
    "!pip install -q flax"
   ]
  },
  {
   "cell_type": "code",
   "execution_count": null,
   "metadata": {
    "id": "FQwghhw5j-kB"
   },
   "outputs": [],
   "source": [
    "from flax import linen as nn           # The Linen API\n",
    "from flax.training import train_state  # Useful dataclass to keep train state"
   ]
  },
  {
   "cell_type": "markdown",
   "metadata": {
    "id": "2PlPTAi9kqAQ"
   },
   "source": [
    "### Define network\n",
    "\n",
    "Create a convolutional neural network with the Linen API by subclassing\n",
    "[`Module`]( https://flax.readthedocs.io/en/latest/api_reference/flax.linen/module.html).\n",
    "Because the architecture in this example is relatively simple—you're just\n",
    "stacking layers—you can define the inlined submodules directly within the\n",
    "`__call__` method and wrap it with the\n",
    "[`@compact`](https://flax.readthedocs.io/en/latest/api_reference/flax.linen/decorators.html#flax.linen.compact)\n",
    "decorator."
   ]
  },
  {
   "cell_type": "code",
   "execution_count": null,
   "metadata": {
    "id": "6bvZuQi6kg8T"
   },
   "outputs": [],
   "source": [
    "class CNN(nn.Module):\n",
    "  \"\"\"A simple CNN model.\"\"\"\n",
    "\n",
    "  @nn.compact\n",
    "  def __call__(self, x):\n",
    "    x = x.astype(jnp.float32) / 255\n",
    "    x = nn.Conv(features=32, kernel_size=(3, 3))(x)\n",
    "    x = nn.relu(x)\n",
    "    x = nn.avg_pool(x, window_shape=(2, 2), strides=(2, 2))\n",
    "    x = nn.Conv(features=64, kernel_size=(3, 3))(x)\n",
    "    x = nn.relu(x)\n",
    "    x = nn.avg_pool(x, window_shape=(2, 2), strides=(2, 2))\n",
    "    x = x.reshape((x.shape[0], -1))  # flatten\n",
    "    x = nn.Dense(features=256)(x)\n",
    "    x = nn.relu(x)\n",
    "    x = nn.Dense(features=NUM_CLASSES)(x)\n",
    "    return x"
   ]
  },
  {
   "cell_type": "markdown",
   "metadata": {
    "id": "BJJqE7gKpmye"
   },
   "source": [
    "We do not need to explicitly retrieve pure functions."
   ]
  },
  {
   "cell_type": "markdown",
   "metadata": {
    "id": "hNABQ8yolWFK"
   },
   "source": [
    "### Create train state (and optimizer)\n",
    "\n",
    "A common pattern in Flax is to create a single dataclass that represents the\n",
    "entire training state, including step number, parameters, and optimizer state.\n",
    "\n",
    "Also adding optimizer & model to this state has the advantage that we only need\n",
    "to pass around a single argument to functions like `train_step()` (see below).\n",
    "\n",
    "Because this is such a common pattern, Flax provides the class\n",
    "[flax.training.train_state.TrainState](https://flax.readthedocs.io/en/latest/flax.training.html#train-state)\n",
    "that serves most basic use cases. Usually one would subclass it to add more data\n",
    "to be tracked, but in this example we can use it without any modifications."
   ]
  },
  {
   "cell_type": "code",
   "execution_count": null,
   "metadata": {
    "id": "DqpHZf4jlqvz"
   },
   "outputs": [],
   "source": [
    "def create_train_state(rng, learning_rate, momentum):\n",
    "  \"\"\"Creates initial `TrainState`.\"\"\"\n",
    "  cnn = CNN()\n",
    "  params = cnn.init(rng, jnp.ones([1, 28, 28, 1]))['params']\n",
    "  # In the haiku example, we used Adam. Let's use SGD with momentum here.\n",
    "  tx = optax.sgd(learning_rate, momentum)\n",
    "  return train_state.TrainState.create(\n",
    "      apply_fn=cnn.apply, params=params, tx=tx)"
   ]
  },
  {
   "cell_type": "markdown",
   "metadata": {
    "id": "E_62B7uilq2V"
   },
   "source": [
    "### Define the optimisation objective (loss)"
   ]
  },
  {
   "cell_type": "code",
   "execution_count": null,
   "metadata": {
    "id": "EUgmndZ2p8Qk"
   },
   "outputs": [],
   "source": [
    "def flax_loss_fn(params, batch):\n",
    "  logits = CNN().apply({'params': params}, batch['image'])\n",
    "\n",
    "  labels = jax.nn.one_hot(batch['label'], NUM_CLASSES)\n",
    "\n",
    "  # Compute mean softmax cross entropy over the batch\n",
    "  softmax_xent = -jnp.sum(labels * jax.nn.log_softmax(logits))\n",
    "  softmax_xent /= labels.shape[0]\n",
    "\n",
    "  # Compute the weight decay loss by penalising the norm of parameters\n",
    "  l2_loss = 0.5 * sum(jnp.sum(jnp.square(p)) for p in jax.tree_util.tree_leaves(params))\n",
    "\n",
    "  return softmax_xent + WEIGHT_DECAY * l2_loss"
   ]
  },
  {
   "cell_type": "markdown",
   "metadata": {
    "id": "BQ1z4jIyp8Wl"
   },
   "source": [
    "### Evaluation Metric"
   ]
  },
  {
   "cell_type": "code",
   "execution_count": null,
   "metadata": {
    "id": "ajBJc-syra8p"
   },
   "outputs": [],
   "source": [
    "# Classification accuracy\n",
    "@jax.jit\n",
    "def flax_accuracy(params, batch):\n",
    "  # Get network predictions\n",
    "  predictions = CNN().apply({'params': params}, batch['image'])\n",
    "  # Return accuracy = how many predictions match the ground truth\n",
    "  return jnp.mean(jnp.argmax(predictions, axis=-1) == batch['label'])"
   ]
  },
  {
   "cell_type": "markdown",
   "metadata": {
    "id": "tsukw533rbDL"
   },
   "source": [
    "### Define training step (parameters update)"
   ]
  },
  {
   "cell_type": "code",
   "execution_count": null,
   "metadata": {
    "id": "YQ_zigsOr9lF"
   },
   "outputs": [],
   "source": [
    "@jax.jit\n",
    "def flax_train_step(state, batch):\n",
    "  \"\"\"Train for a single step.\"\"\"\n",
    "  grads = jax.grad(flax_loss_fn)(state.params, batch)\n",
    "  state = state.apply_gradients(grads=grads)\n",
    "  return state"
   ]
  },
  {
   "cell_type": "markdown",
   "metadata": {
    "id": "TMJTu6qBsxDY"
   },
   "source": [
    "### Initialize the model and the optimiser (train state)"
   ]
  },
  {
   "cell_type": "code",
   "execution_count": null,
   "metadata": {
    "id": "gb-zKQgCs9au"
   },
   "outputs": [],
   "source": [
    "rng = jax.random.PRNGKey(0)\n",
    "rng, init_rng = jax.random.split(rng)"
   ]
  },
  {
   "cell_type": "code",
   "execution_count": null,
   "metadata": {
    "id": "VRHuZrFfs3hI"
   },
   "outputs": [],
   "source": [
    "# We define a new (higher) learning rate for SGD and momentum\n",
    "learning_rate = 0.01\n",
    "momentum = 0.9"
   ]
  },
  {
   "cell_type": "code",
   "execution_count": null,
   "metadata": {
    "id": "1VWuXzS4s5c5"
   },
   "outputs": [],
   "source": [
    "state = create_train_state(init_rng, learning_rate, momentum)\n",
    "del init_rng  # Must not be used anymore."
   ]
  },
  {
   "cell_type": "code",
   "execution_count": null,
   "metadata": {
    "id": "HAML32ZCRgsw"
   },
   "outputs": [],
   "source": [
    "# Print parameter shapes\n",
    "jax.tree_map(lambda x: x.shape, state.params)"
   ]
  },
  {
   "cell_type": "markdown",
   "metadata": {
    "id": "I2wmsbVXr3A7"
   },
   "source": [
    "### Accuracy of the untrained model"
   ]
  },
  {
   "cell_type": "code",
   "execution_count": null,
   "metadata": {
    "id": "Zw50IuwQr3HK"
   },
   "outputs": [],
   "source": [
    "# Run accuracy on the test dataset\n",
    "test_accuracy = flax_accuracy(state.params, next(iter(test_eval_dataset)))\n",
    "print('Test accuracy %f '% test_accuracy)"
   ]
  },
  {
   "cell_type": "markdown",
   "metadata": {
    "id": "bwJh6L-4lrHD"
   },
   "source": [
    "### Run training steps in a loop. We also run evaluation periodically."
   ]
  },
  {
   "cell_type": "code",
   "execution_count": null,
   "metadata": {
    "id": "n_9IBXoVwFZJ"
   },
   "outputs": [],
   "source": [
    "# Train/eval loop.\n",
    "print(\"Getting data iterators..\")\n",
    "train_ds_iterator = iter(train_dataset)\n",
    "train_eval_ds_iterator = iter(train_eval_dataset)\n",
    "test_eval_ds_iterator = iter(test_eval_dataset)\n",
    "\n",
    "print(\"Training..\")\n",
    "for epoch in range(NUM_EPOCHS):\n",
    "  for step in range(TRAIN_NUM_EXAMPLES // TRAIN_BATCH_SIZE):\n",
    "    # Do SGD on a batch of training examples.\n",
    "    state = flax_train_step(state, next(train_ds_iterator))\n",
    "  # Periodically evaluate classification accuracy on train & test sets.\n",
    "  train_accuracy = flax_accuracy(state.params, next(train_eval_ds_iterator))\n",
    "  test_accuracy = flax_accuracy(state.params, next(test_eval_ds_iterator))\n",
    "  train_accuracy, test_accuracy = jax.device_get(\n",
    "      (train_accuracy, test_accuracy))\n",
    "  print('epoch %d Train / Test accuracy: %f / %f' % (epoch+1, train_accuracy, test_accuracy))\n"
   ]
  }
 ],
 "metadata": {
  "accelerator": "GPU",
  "colab": {
   "gpuType": "T4",
   "private_outputs": true,
   "provenance": [],
   "toc_visible": true
  },
  "kernelspec": {
   "display_name": "Python 3 (ipykernel)",
   "language": "python",
   "name": "python3"
  },
  "language_info": {
   "codemirror_mode": {
    "name": "ipython",
    "version": 3
   },
   "file_extension": ".py",
   "mimetype": "text/x-python",
   "name": "python",
   "nbconvert_exporter": "python",
   "pygments_lexer": "ipython3",
   "version": "3.7.16"
  }
 },
 "nbformat": 4,
 "nbformat_minor": 1
}
