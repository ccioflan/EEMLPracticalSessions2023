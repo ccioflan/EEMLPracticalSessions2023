{
  "metadata": {
    "colab": {
      "provenance": [],
      "toc_visible": true
    },
    "kernelspec": {
      "name": "python3",
      "display_name": "Python 3",
      "language": "python"
    },
    "language_info": {
      "name": "python",
      "version": "3.8.17",
      "mimetype": "text/x-python",
      "codemirror_mode": {
        "name": "ipython",
        "version": 3
      },
      "pygments_lexer": "ipython3",
      "nbconvert_exporter": "python",
      "file_extension": ".py"
    }
  },
  "nbformat_minor": 0,
  "nbformat": 4,
  "cells": [
    {
      "cell_type": "markdown",
      "source": [
        "# JAX Distributed Arrays\n",
        "\n",
        "This is modified version of JAX official documentation on [Distributed arrays and automatic parallelization](https://jax.readthedocs.io/en/latest/notebooks/Distributed_arrays_and_automatic_parallelization.html)"
      ],
      "metadata": {
        "id": "75rO1Z9NVytm"
      }
    },
    {
      "cell_type": "code",
      "source": [
        "! apt update; apt install -y graphviz"
      ],
      "metadata": {
        "execution": {
          "iopub.status.busy": "2023-07-13T20:19:04.774712Z",
          "iopub.execute_input": "2023-07-13T20:19:04.775145Z",
          "iopub.status.idle": "2023-07-13T20:19:13.587819Z",
          "shell.execute_reply.started": "2023-07-13T20:19:04.775099Z",
          "shell.execute_reply": "2023-07-13T20:19:13.586602Z"
        },
        "collapsed": true,
        "jupyter": {
          "outputs_hidden": true
        },
        "trusted": true,
        "id": "Be7mBrfdtH2E"
      },
      "execution_count": null,
      "outputs": []
    },
    {
      "cell_type": "code",
      "source": [
        "! pip install jaxtyping\n",
        "! pip install graphviz"
      ],
      "metadata": {
        "id": "FyFEMiYqjf2N",
        "execution": {
          "iopub.status.busy": "2023-07-13T21:15:21.729481Z",
          "iopub.execute_input": "2023-07-13T21:15:21.729865Z",
          "iopub.status.idle": "2023-07-13T21:15:32.415027Z",
          "shell.execute_reply.started": "2023-07-13T21:15:21.729837Z",
          "shell.execute_reply": "2023-07-13T21:15:32.413857Z"
        },
        "collapsed": true,
        "jupyter": {
          "outputs_hidden": true
        },
        "trusted": true
      },
      "execution_count": null,
      "outputs": []
    },
    {
      "cell_type": "code",
      "source": [
        "#@title Imports\n",
        "from typing import Optional\n",
        "\n",
        "import os\n",
        "import functools\n",
        "\n",
        "import jax\n",
        "import jax.numpy as jnp\n",
        "import graphviz\n",
        "import numpy as np\n",
        "import tabulate\n",
        "\n",
        "from jax.experimental import mesh_utils\n",
        "from jax.sharding import Mesh\n",
        "from jax.sharding import PartitionSpec\n",
        "from jax.sharding import NamedSharding\n",
        "from jax.sharding import PositionalSharding\n",
        "\n",
        "# This makes it more readable to inspect sharings.\n",
        "np.set_printoptions(precision=3)\n",
        "print(jax.__version__)\n",
        "\n",
        "\n",
        "def show_shards_on_devices(array: jax.Array, mesh: jax.sharding.Mesh, show_devices: bool=False):\n",
        "    \"\"\"Visualization helper.\"\"\"\n",
        "    slice_from_id = {}\n",
        "    idx_map = array.sharding.devices_indices_map(array.shape)\n",
        "    for device, (x_slice, y_slice) in idx_map.items():\n",
        "        slice_from_id[device.id] = array[x_slice, y_slice]\n",
        "\n",
        "    # Build a table to visualize which slice goes on which device.\n",
        "    nrows, ncols = mesh.device_ids.shape\n",
        "    data = []\n",
        "    for row in range(nrows):\n",
        "        row_data = []\n",
        "        for col in range(ncols):\n",
        "            device_id = mesh.device_ids[row, col]\n",
        "            data_slice = slice_from_id[device_id]\n",
        "            if show_devices:\n",
        "                cell_data = f\"{jax.local_devices()[device_id]}\\n\\n{data_slice}\"\n",
        "            else:\n",
        "                cell_data = data_slice\n",
        "            row_data.append(cell_data)\n",
        "        data.append(row_data)\n",
        "    table = tabulate.tabulate(data, [], tablefmt=\"fancy_grid\")\n",
        "    print(table)"
      ],
      "metadata": {
        "id": "vJxTmVKZJJUE",
        "cellView": "form",
        "execution": {
          "iopub.status.busy": "2023-07-13T21:15:32.416814Z",
          "iopub.execute_input": "2023-07-13T21:15:32.417141Z",
          "iopub.status.idle": "2023-07-13T21:15:32.461186Z",
          "shell.execute_reply.started": "2023-07-13T21:15:32.417110Z",
          "shell.execute_reply": "2023-07-13T21:15:32.460422Z"
        },
        "trusted": true
      },
      "execution_count": null,
      "outputs": []
    },
    {
      "cell_type": "code",
      "source": [
        "#@title Notebook setting\n",
        "USE_MOCK_DEVICES = False #@param {type:\"boolean\"}\n",
        "import chex\n",
        "\n",
        "if USE_MOCK_DEVICES:\n",
        "    print('Using 8 mock devices.')\n",
        "    # Forces XLA to use `n` CPU threads as host devices.\n",
        "    # This will make the code work.\n",
        "    chex.set_n_cpu_devices(8)\n",
        "\n",
        "if len(jax.local_devices()) < 8:\n",
        "    raise Exception(\"Notebook requires 8 devices to run\")\n",
        "\n",
        "N_DEVICES = len(jax.local_devices())"
      ],
      "metadata": {
        "cellView": "form",
        "id": "h4x5NuPyGkhW",
        "execution": {
          "iopub.status.busy": "2023-07-13T20:20:02.041252Z",
          "iopub.execute_input": "2023-07-13T20:20:02.041610Z",
          "iopub.status.idle": "2023-07-13T20:20:02.048002Z",
          "shell.execute_reply.started": "2023-07-13T20:20:02.041581Z",
          "shell.execute_reply": "2023-07-13T20:20:02.046920Z"
        },
        "trusted": true
      },
      "execution_count": null,
      "outputs": []
    },
    {
      "cell_type": "markdown",
      "source": [
        "# JAX Distributed Arrays"
      ],
      "metadata": {
        "id": "svnjIrpGZYnT"
      }
    },
    {
      "cell_type": "code",
      "source": [
        "#@title jax.Array { run: \"auto\", form-width: \"1000px\" }\n",
        "mesh_shape = \"(4, 2)\"                          #@param [\"(4, 2)\", \"(2, 4)\", \"(1, 8)\", \"(8, 1)\"]\n",
        "axis_names = \"('data', 'model')\"               #@param [\"('data', 'model')\"]\n",
        "partition_spec = \"PartitionSpec()\" #@param [\"PartitionSpec()\", \"PartitionSpec('data', None)\", \"PartitionSpec(None, 'model')\", \"PartitionSpec('model', None)\", \"PartitionSpec('data', 'model')\", \"PartitionSpec('model', 'data')\", \"PartitionSpec(None, 'data')\", \"PartitionSpec(('data', 'model'), None)\", \"PartitionSpec(('model', 'data'), None)\"]\n",
        "show_device_ids = False #@param {type:\"boolean\"}\n",
        "\n",
        "# Kids don't do this at home.\n",
        "mesh_shape = eval(mesh_shape)\n",
        "axis_names = eval(axis_names)\n",
        "partition_spec =  eval(f\"jax.sharding.{partition_spec}\")\n",
        "\n",
        "# Input data\n",
        "input_data = jnp.arange(8 * 2).reshape(8, 2)\n",
        "\n",
        "devices = mesh_utils.create_device_mesh(mesh_shape)\n",
        "mesh = jax.sharding.Mesh(devices, axis_names=axis_names)\n",
        "\n",
        "sharding = jax.sharding.NamedSharding(mesh,  partition_spec)\n",
        "M = jax.device_put(input_data, sharding)\n",
        "\n",
        "print(\"Input Array:\\n%s\" % M)\n",
        "print(\"shape: %s\" % repr(M.shape))\n",
        "print()\n",
        "jax.debug.visualize_array_sharding(M)\n",
        "\n",
        "show_shards_on_devices(M, mesh, show_device_ids)"
      ],
      "metadata": {
        "cellView": "form",
        "id": "0EVE-vVbZcXS",
        "execution": {
          "iopub.status.busy": "2023-07-13T20:20:03.094122Z",
          "iopub.execute_input": "2023-07-13T20:20:03.094453Z",
          "iopub.status.idle": "2023-07-13T20:20:03.176386Z",
          "shell.execute_reply.started": "2023-07-13T20:20:03.094425Z",
          "shell.execute_reply": "2023-07-13T20:20:03.175489Z"
        },
        "trusted": true
      },
      "execution_count": null,
      "outputs": []
    },
    {
      "cell_type": "code",
      "source": [
        "sharding = PositionalSharding(mesh_utils.create_device_mesh((8,)))\n",
        "\n",
        "x = jnp.arange(2*8).reshape(4, 4)\n",
        "\n",
        "\n",
        "y = jax.device_put(x, sharding.reshape(1, 8).replicate(1))\n",
        "z = jax.device_put(x, sharding.reshape(8, 1).replicate(0))\n",
        "print('lhs sharding:')\n",
        "jax.debug.visualize_array_sharding(y)\n",
        "show_shards_on_devices(y, mesh, True)\n",
        "\n",
        "print('rhs sharding:')\n",
        "jax.debug.visualize_array_sharding(z)\n",
        "show_shards_on_devices(z, mesh, True)\n",
        "\n",
        "w = jnp.dot(y, z)\n",
        "print('out sharding:')\n",
        "jax.debug.visualize_array_sharding(w)\n",
        "show_shards_on_devices(w, mesh, True)"
      ],
      "metadata": {
        "id": "h13c2aStdqgo",
        "execution": {
          "iopub.status.busy": "2023-07-13T20:20:03.483247Z",
          "iopub.execute_input": "2023-07-13T20:20:03.483597Z",
          "iopub.status.idle": "2023-07-13T20:20:03.539660Z",
          "shell.execute_reply.started": "2023-07-13T20:20:03.483567Z",
          "shell.execute_reply": "2023-07-13T20:20:03.538526Z"
        },
        "trusted": true
      },
      "execution_count": null,
      "outputs": []
    },
    {
      "cell_type": "markdown",
      "source": [
        "## Batch data paralleism"
      ],
      "metadata": {
        "id": "FW7O8K9ZjPSv"
      }
    },
    {
      "cell_type": "code",
      "source": [
        "from typing import Tuple\n",
        "\n",
        "import jax\n",
        "import jax.numpy as jnp\n",
        "from jaxtyping import Array, Float\n",
        "\n",
        "\n",
        "def mlp(x: Float[Array,  \"B   H_1\"],\n",
        "        w1: Float[Array, \"H_1 H_2\"],\n",
        "        w2: Float[Array, \"H_2 H_1\"]) ->Float[Array,  \"B H_1\"]:\n",
        "    \"\"\"A simple two layer MLP.\n",
        "\n",
        "    Z = max(X * W_1, 0) * W_2\n",
        "\n",
        "    \"\"\"\n",
        "    y = jnp.dot(x, w1)    # [B, H_1] @ [H_1, H_2] -> [B, H_2]\n",
        "    u = jnp.maximum(y, 0) # [B, H_2]\n",
        "    z = jnp.dot(u, w2)    # [B, H_2] @ [H_2, H_1] -> [B, H_1]\n",
        "    return z\n",
        "\n",
        "\n",
        "def cross_entropy(logits: Float[Array,  \"B C\"],\n",
        "                  targets: Float[Array, \"B\"]) -> Float[Array, \"B\"]:\n",
        "    \"\"\"Calculates cross-entropy.\"\"\"\n",
        "    return -jnp.sum(targets * jax.nn.log_softmax(logits, axis=-1), axis=-1)\n",
        "\n",
        "\n",
        "def loss_fn(x, w1, w2, targets):\n",
        "      return jnp.sum(cross_entropy(mlp(x, w1, w2), targets))\n",
        "\n",
        "\n",
        "def init_model(\n",
        "    key: jax.random.PRNGKey,\n",
        "    H_1: int,\n",
        "    H_2: int) -> Tuple[Float[Array, \"H_1 H_2\"], Float[Array, \"H_2 H_1\"]]:\n",
        "    \"\"\"Initialises the network.\"\"\"\n",
        "    k1, k2 = jax.random.split(key)\n",
        "    W_1 = jax.random.normal(k1, (H_1, H_2)) / jnp.sqrt(H_1)\n",
        "    W_2 = jax.random.normal(k1, (H_2, H_1)) / jnp.sqrt(H_2)\n",
        "    return W_1, W_2\n",
        "\n",
        "\n",
        "def init_data(\n",
        "    key: jax.random.PRNGKey,\n",
        "    B: int, H_1: int, C: int,\n",
        "    ) -> Tuple[Float[Array, \"B H_1\"], Float[Array, \"B C\"]]:\n",
        "    \"Initialises data\"\n",
        "    k1, k2 = jax.random.split(key)\n",
        "    return (\n",
        "        jax.random.normal(k1, (B, H_1)),\n",
        "        jax.random.randint(k2, (B, 1), minval=0, maxval=C))"
      ],
      "metadata": {
        "id": "cYSPyVFyiGpX",
        "execution": {
          "iopub.status.busy": "2023-07-13T20:20:04.365935Z",
          "iopub.execute_input": "2023-07-13T20:20:04.366334Z",
          "iopub.status.idle": "2023-07-13T20:20:04.383164Z",
          "shell.execute_reply.started": "2023-07-13T20:20:04.366303Z",
          "shell.execute_reply": "2023-07-13T20:20:04.382172Z"
        },
        "trusted": true
      },
      "execution_count": null,
      "outputs": []
    },
    {
      "cell_type": "code",
      "source": [
        "# Set the shapes, to be small to be able to visualize\n",
        "# what's happening.\n",
        "B, H_1, H_2, C = N_DEVICES * 2, 4, 4, 8\n",
        "\n",
        "key = jax.random.PRNGKey(0)\n",
        "w1, w2 = init_model(key, H_1, H_2)\n",
        "x, y = init_data(key, B, H_1, C)\n",
        "\n",
        "mesh_shape = (8, 1)\n",
        "\n",
        "# First specify sharding with positional sharding on 8 devices\n",
        "sharding = jax.sharding.PositionalSharding(jax.devices()).reshape(*mesh_shape)\n",
        "\n",
        "# Technically one doesn't need mesh for PositionalSharding, but we'll be\n",
        "# using it to visualize what goes to each device.\n",
        "mesh = jax.sharding.Mesh(\n",
        "    mesh_utils.create_device_mesh(mesh_shape), axis_names=('data', 'model'))\n",
        "\n",
        "\n",
        "# Shard batch on the first dimension, each mini-batch should be of size B/8.\n",
        "(x, y) = jax.device_put((x, y), sharding)\n",
        "\n",
        "# Put parameters on devices, replicating them. Each\n",
        "# device has the same copy of the model.\n",
        "w1, w2 = jax.device_put((w1, w2), sharding.replicate())"
      ],
      "metadata": {
        "id": "72GuqQbyqdjW",
        "execution": {
          "iopub.status.busy": "2023-07-13T20:20:06.084057Z",
          "iopub.execute_input": "2023-07-13T20:20:06.084454Z",
          "iopub.status.idle": "2023-07-13T20:20:06.107747Z",
          "shell.execute_reply.started": "2023-07-13T20:20:06.084425Z",
          "shell.execute_reply": "2023-07-13T20:20:06.106462Z"
        },
        "trusted": true
      },
      "execution_count": null,
      "outputs": []
    },
    {
      "cell_type": "code",
      "source": [
        "# This is our batch of data.\n",
        "x"
      ],
      "metadata": {
        "id": "HN436uaulznh",
        "execution": {
          "iopub.status.busy": "2023-07-13T20:20:06.649416Z",
          "iopub.execute_input": "2023-07-13T20:20:06.649852Z",
          "iopub.status.idle": "2023-07-13T20:20:06.659188Z",
          "shell.execute_reply.started": "2023-07-13T20:20:06.649813Z",
          "shell.execute_reply": "2023-07-13T20:20:06.658148Z"
        },
        "trusted": true
      },
      "execution_count": null,
      "outputs": []
    },
    {
      "cell_type": "code",
      "source": [
        "# This is how it's sharded across devices, on its row axis.\n",
        "show_shards_on_devices(x, mesh, show_devices=True)"
      ],
      "metadata": {
        "id": "zRqGnVPLuF_E",
        "execution": {
          "iopub.status.busy": "2023-07-13T20:20:07.279357Z",
          "iopub.execute_input": "2023-07-13T20:20:07.279766Z",
          "iopub.status.idle": "2023-07-13T20:20:07.294508Z",
          "shell.execute_reply.started": "2023-07-13T20:20:07.279732Z",
          "shell.execute_reply": "2023-07-13T20:20:07.293584Z"
        },
        "trusted": true
      },
      "execution_count": null,
      "outputs": []
    },
    {
      "cell_type": "code",
      "source": [
        "loss_and_grad_fn = jax.jit(jax.value_and_grad(loss_fn, argnums=(1, 2)))"
      ],
      "metadata": {
        "id": "SCNh5pH0wd5R",
        "execution": {
          "iopub.status.busy": "2023-07-13T20:20:08.026336Z",
          "iopub.execute_input": "2023-07-13T20:20:08.026643Z",
          "iopub.status.idle": "2023-07-13T20:20:08.047797Z",
          "shell.execute_reply.started": "2023-07-13T20:20:08.026617Z",
          "shell.execute_reply": "2023-07-13T20:20:08.046810Z"
        },
        "trusted": true
      },
      "execution_count": null,
      "outputs": []
    },
    {
      "cell_type": "code",
      "source": [
        "lr = 0.01\n",
        "\n",
        "for i in range(100):\n",
        "    loss, (dw1, dw2) = loss_and_grad_fn(x, w1, w2, y)\n",
        "    w1 = w1 - lr*dw1\n",
        "    w2 = w2 - lr*dw2\n",
        "    if i % 10 == 0:\n",
        "        print(f\"Step: {i} {loss:.2f}\")"
      ],
      "metadata": {
        "id": "QupvQlaYw2Fj",
        "execution": {
          "iopub.status.busy": "2023-07-13T20:20:08.779924Z",
          "iopub.execute_input": "2023-07-13T20:20:08.780260Z",
          "iopub.status.idle": "2023-07-13T20:20:09.322410Z",
          "shell.execute_reply.started": "2023-07-13T20:20:08.780232Z",
          "shell.execute_reply": "2023-07-13T20:20:09.321342Z"
        },
        "trusted": true
      },
      "execution_count": null,
      "outputs": []
    },
    {
      "cell_type": "code",
      "source": [
        "# Increase the sizes, to make the task more computionaly intensive.\n",
        "B, H_1, H_2, C = 8192, 1024*4, 1024*4, 32_000\n",
        "\n",
        "key = jax.random.PRNGKey(0)\n",
        "w1, w2 = init_model(key, H_1, H_2)\n",
        "x, y = init_data(key, B, H_1, C)\n",
        "\n",
        "# Put on device 0\n",
        "device_0 =jax.devices()[0]\n",
        "x_d0, y_d0 = jax.device_put((x, y), device_0)\n",
        "w1_d0, w2_d0 = jax.device_put((w1, w2), device_0)\n",
        "\n",
        "# Shard data, replicate params.\n",
        "(x, y) = jax.device_put((x, y), sharding)\n",
        "w1, w2 = jax.device_put((w1, w2), sharding.replicate())"
      ],
      "metadata": {
        "id": "QbFYD8rL0JYU",
        "execution": {
          "iopub.status.busy": "2023-07-13T20:20:10.217415Z",
          "iopub.execute_input": "2023-07-13T20:20:10.217800Z",
          "iopub.status.idle": "2023-07-13T20:20:10.238634Z",
          "shell.execute_reply.started": "2023-07-13T20:20:10.217770Z",
          "shell.execute_reply": "2023-07-13T20:20:10.237484Z"
        },
        "trusted": true
      },
      "execution_count": null,
      "outputs": []
    },
    {
      "cell_type": "code",
      "source": [
        "loss_and_grad_fn = jax.jit(jax.value_and_grad(loss_fn, argnums=(1, 2)))"
      ],
      "metadata": {
        "id": "7Ed_E7i5Urmw",
        "execution": {
          "iopub.status.busy": "2023-07-13T20:20:10.817622Z",
          "iopub.execute_input": "2023-07-13T20:20:10.818600Z",
          "iopub.status.idle": "2023-07-13T20:20:10.904984Z",
          "shell.execute_reply.started": "2023-07-13T20:20:10.818561Z",
          "shell.execute_reply": "2023-07-13T20:20:10.903874Z"
        },
        "trusted": true
      },
      "execution_count": null,
      "outputs": []
    },
    {
      "cell_type": "code",
      "source": [
        "%timeit -n 5 -r 10 loss_and_grad_fn(x, w1, w2, y)[0].block_until_ready()"
      ],
      "metadata": {
        "id": "7kN4HE3jzOxW",
        "execution": {
          "iopub.status.busy": "2023-07-13T20:20:24.170411Z",
          "iopub.execute_input": "2023-07-13T20:20:24.170883Z",
          "iopub.status.idle": "2023-07-13T20:20:24.569863Z",
          "shell.execute_reply.started": "2023-07-13T20:20:24.170844Z",
          "shell.execute_reply": "2023-07-13T20:20:24.568893Z"
        },
        "trusted": true
      },
      "execution_count": null,
      "outputs": []
    },
    {
      "cell_type": "code",
      "source": [
        "%timeit -n 5 -r 10 loss_and_grad_fn(x_d0, w1_d0, w2_d0, y_d0)[0].block_until_ready()"
      ],
      "metadata": {
        "id": "AFfV6_9Kz-LG",
        "execution": {
          "iopub.status.busy": "2023-07-13T20:20:25.385422Z",
          "iopub.execute_input": "2023-07-13T20:20:25.385780Z",
          "iopub.status.idle": "2023-07-13T20:20:26.766491Z",
          "shell.execute_reply.started": "2023-07-13T20:20:25.385741Z",
          "shell.execute_reply": "2023-07-13T20:20:26.765504Z"
        },
        "trusted": true
      },
      "execution_count": null,
      "outputs": []
    },
    {
      "cell_type": "markdown",
      "source": [
        "## Batch and model parallelism."
      ],
      "metadata": {
        "id": "mLXX8QsWU8Di"
      }
    },
    {
      "cell_type": "code",
      "source": [
        "# Let's now create 4-batch, 2 model positional sharding.\n",
        "import numpy as np\n",
        "\n",
        "mesh_shape = (4, 2)\n",
        "devices = np.asarray(jax.devices()).reshape(*mesh_shape)\n",
        "mesh = jax.sharding.Mesh(devices,  ('data', 'model'))\n",
        "\n",
        "# Create input data\n",
        "B, H_1, H_2 = 8, 2, 4\n",
        "\n",
        "X = np.arange(B * H_1).reshape(B, H_1)\n",
        "w1 = 3 * np.arange(H_1 * H_2).reshape(H_1, H_2)\n",
        "w2 = 7 * np.arange(H_2 * H_1).reshape(H_2, H_1)\n",
        "\n",
        "# Shard input data on first batch dimension, replicate on model dimension,\n",
        "# as mini-batch for data will be multpied by each shard of weight w1.\n",
        "X  = jax.device_put(\n",
        "    X,\n",
        "    jax.sharding.NamedSharding(mesh, jax.sharding.PartitionSpec('data', None)))\n",
        "\n",
        "print(\"Placement of input_data, split on batch dimension\")\n",
        "print(\"\"\"\n",
        " [[ 0,  1],\n",
        "  [ 2,  3],\n",
        "  --------\n",
        "  [ 4,  5],\n",
        "  [ 6,  7],\n",
        "  --------\n",
        "  [ 8,  9],\n",
        "  [10, 11],\n",
        "  --------\n",
        "  [12, 13],\n",
        "  [14, 15]]\n",
        "\"\"\")\n",
        "show_shards_on_devices(X , mesh)\n",
        "\n",
        "# Shard w_1 on columns, replicate on data dimension.\n",
        "w_1 = jax.device_put(\n",
        "    w1,\n",
        "    jax.sharding.NamedSharding(mesh, jax.sharding.PartitionSpec(None, 'model')))\n",
        "\n",
        "print(\"Placement of w_1, split on columns\")\n",
        "print(\"\"\"\n",
        "[[ 0  3  | 6  9]\n",
        " [12 15  | 18 21]]\n",
        "\"\"\")\n",
        "show_shards_on_devices(w_1, mesh)\n",
        "\n",
        "# Shard w_2 on rows, replicate on data dimension.\n",
        "w_2 = jax.device_put(\n",
        "    w2,\n",
        "    jax.sharding.NamedSharding(mesh, jax.sharding.PartitionSpec('model', None)))\n",
        "\n",
        "print(\"Placement of w_2, split on rows\")\n",
        "print(\"\"\"\n",
        "[[ 0  7]\n",
        " [14 21]\n",
        " -------\n",
        " [28 35]\n",
        " [42 49]]\n",
        "\"\"\")\n",
        "show_shards_on_devices(w_2, mesh)\n",
        "\n",
        "# Calculate sharded product.\n",
        "Y = jnp.maximum(X @ w_1, 0)\n",
        "Z = Y @ w_2\n",
        "\n",
        "show_shards_on_devices(Z, mesh)"
      ],
      "metadata": {
        "id": "kxfjlwzkiFyX",
        "execution": {
          "iopub.status.busy": "2023-07-13T20:20:28.173051Z",
          "iopub.execute_input": "2023-07-13T20:20:28.173422Z",
          "iopub.status.idle": "2023-07-13T20:20:28.227600Z",
          "shell.execute_reply.started": "2023-07-13T20:20:28.173391Z",
          "shell.execute_reply": "2023-07-13T20:20:28.226581Z"
        },
        "trusted": true
      },
      "execution_count": null,
      "outputs": []
    },
    {
      "cell_type": "code",
      "source": [
        "# Increase the sizes, to make the task more computionaly intensive.\n",
        "B, H_1, H_2, C = 8192, 512, 1024, 32_000\n",
        "\n",
        "key = jax.random.PRNGKey(0)\n",
        "w1, w2 = init_model(key, H_1, H_2)\n",
        "x, t = init_data(key, B, H_1, C)\n",
        "\n",
        "# Shard input data on first batch dimension, replicate on model dimension,\n",
        "# as mini-batch for data will be multpied by each shard of weight w1.\n",
        "(x, t) = jax.device_put(\n",
        "    (x, t),\n",
        "    jax.sharding.NamedSharding(mesh, jax.sharding.PartitionSpec('data', None)))\n",
        "\n",
        "# Shard w_1 on columns, replicate on data dimension.\n",
        "w_1 = jax.device_put(\n",
        "    w1,\n",
        "    jax.sharding.NamedSharding(mesh, jax.sharding.PartitionSpec(None, 'model')))\n",
        "\n",
        "# Shard w_2 on rows, replicate on data dimension.\n",
        "w_2 = jax.device_put(\n",
        "    w2,\n",
        "    jax.sharding.NamedSharding(mesh, jax.sharding.PartitionSpec('model', None)))"
      ],
      "metadata": {
        "id": "409gAvxdmwZK",
        "execution": {
          "iopub.status.busy": "2023-07-13T20:20:29.068982Z",
          "iopub.execute_input": "2023-07-13T20:20:29.069292Z",
          "iopub.status.idle": "2023-07-13T20:20:29.089594Z",
          "shell.execute_reply.started": "2023-07-13T20:20:29.069265Z",
          "shell.execute_reply": "2023-07-13T20:20:29.088455Z"
        },
        "trusted": true
      },
      "execution_count": null,
      "outputs": []
    },
    {
      "cell_type": "code",
      "source": [
        "list(map(lambda x: x.shape, (x, t, w_1, w_2)))"
      ],
      "metadata": {
        "id": "Sv3WtCcdmywC",
        "execution": {
          "iopub.status.busy": "2023-07-13T20:20:30.003687Z",
          "iopub.execute_input": "2023-07-13T20:20:30.004716Z",
          "iopub.status.idle": "2023-07-13T20:20:30.012033Z",
          "shell.execute_reply.started": "2023-07-13T20:20:30.004675Z",
          "shell.execute_reply": "2023-07-13T20:20:30.010907Z"
        },
        "trusted": true
      },
      "execution_count": null,
      "outputs": []
    },
    {
      "cell_type": "code",
      "source": [
        "%timeit -n 5 -r 10 loss_and_grad_fn(x, w_1, w_2, t)[0].block_until_ready()"
      ],
      "metadata": {
        "id": "OwwJt0Y-m0aQ",
        "execution": {
          "iopub.status.busy": "2023-07-13T20:20:30.679392Z",
          "iopub.execute_input": "2023-07-13T20:20:30.679844Z",
          "iopub.status.idle": "2023-07-13T20:20:31.998468Z",
          "shell.execute_reply.started": "2023-07-13T20:20:30.679812Z",
          "shell.execute_reply": "2023-07-13T20:20:31.997358Z"
        },
        "trusted": true
      },
      "execution_count": null,
      "outputs": []
    },
    {
      "cell_type": "code",
      "source": [
        "B, H_1, H_2 = 8, 4, 8\n",
        "w1, w2 = init_model(key, H_1, H_2)\n",
        "X, _ = init_data(key, B, H_1, C)\n",
        "\n",
        "sharding_2d = jax.sharding.NamedSharding(mesh, jax.sharding.PartitionSpec('data', 'model'))\n",
        "\n",
        "X = jax.device_put(X, sharding_2d)\n",
        "w_1 = jax.device_put(w1,sharding_2d)\n",
        "w_2 = jax.device_put(w2,sharding_2d)\n",
        "z = mlp(X, w_1, w_2)\n",
        "\n",
        "print(\"X\", X.shape)\n",
        "show_shards_on_devices(X , mesh)\n",
        "print(\"w_1\", w_1.shape)\n",
        "show_shards_on_devices(w_1, mesh)\n",
        "print(\"w_2\", w_2.shape)\n",
        "show_shards_on_devices(w_2, mesh)\n",
        "print(\"Z\", z.shape)\n",
        "show_shards_on_devices(z, mesh)"
      ],
      "metadata": {
        "id": "qSwaEkIyiQBM",
        "execution": {
          "iopub.status.busy": "2023-07-13T20:35:24.598074Z",
          "iopub.execute_input": "2023-07-13T20:35:24.598447Z",
          "iopub.status.idle": "2023-07-13T20:35:24.696322Z",
          "shell.execute_reply.started": "2023-07-13T20:35:24.598419Z",
          "shell.execute_reply": "2023-07-13T20:35:24.695286Z"
        },
        "trusted": true
      },
      "execution_count": null,
      "outputs": []
    },
    {
      "cell_type": "code",
      "source": [
        "# The curious can always export and inspect the generated XLA computation.\n",
        "compiled = jax.jit(mlp).lower(X, w_1, w_2).compile()\n",
        "hlo_module = compiled.runtime_executable().hlo_modules()[0]\n",
        "dot_graph = jax.interpreters.xla.xe.hlo_module_to_dot_graph(hlo_module)"
      ],
      "metadata": {
        "id": "98ioCVECibJb",
        "execution": {
          "iopub.status.busy": "2023-07-13T20:36:05.217943Z",
          "iopub.execute_input": "2023-07-13T20:36:05.218323Z",
          "iopub.status.idle": "2023-07-13T20:36:05.265694Z",
          "shell.execute_reply.started": "2023-07-13T20:36:05.218292Z",
          "shell.execute_reply": "2023-07-13T20:36:05.264604Z"
        },
        "trusted": true
      },
      "execution_count": null,
      "outputs": []
    },
    {
      "cell_type": "code",
      "source": [
        "graph = graphviz.Source(dot_graph, format='png')\n",
        "graph"
      ],
      "metadata": {
        "id": "LvyG7fTbicsk",
        "execution": {
          "iopub.status.busy": "2023-07-13T20:36:06.527086Z",
          "iopub.execute_input": "2023-07-13T20:36:06.527457Z",
          "iopub.status.idle": "2023-07-13T20:36:06.684172Z",
          "shell.execute_reply.started": "2023-07-13T20:36:06.527431Z",
          "shell.execute_reply": "2023-07-13T20:36:06.683024Z"
        },
        "trusted": true
      },
      "execution_count": null,
      "outputs": []
    },
    {
      "cell_type": "code",
      "source": [
        "jax.debug.visualize_array_sharding(z)"
      ],
      "metadata": {
        "execution": {
          "iopub.status.busy": "2023-07-13T20:37:36.922421Z",
          "iopub.execute_input": "2023-07-13T20:37:36.922876Z",
          "iopub.status.idle": "2023-07-13T20:37:36.936207Z",
          "shell.execute_reply.started": "2023-07-13T20:37:36.922839Z",
          "shell.execute_reply": "2023-07-13T20:37:36.935259Z"
        },
        "trusted": true,
        "id": "W0HcoHektH2N"
      },
      "execution_count": null,
      "outputs": []
    },
    {
      "cell_type": "markdown",
      "source": [
        "# Additional Materials\n",
        "\n",
        "## TPU Layout.\n",
        "\n",
        "You might have noticed while calling `jax.debug.visualize_array_sharding` that TPU device numbers are in a particular order: [TPU 0, TPU 1, TPU 2, TPU 3, TPU 6, TPU 7, TPU 4, TPU 5](https://github.com/google/jax/blob/404e3061b6368daed3efa3ee7b99128327254ac2/jax/experimental/mesh_utils.py#L61).\n",
        "\n",
        "```\n",
        "┌──────────┬──────────┐\n",
        "│  TPU 0   │  TPU 1   │\n",
        "├──────────┼──────────┤\n",
        "│  TPU 2   │  TPU 3   │\n",
        "├──────────┼──────────┤\n",
        "│  TPU 6   │  TPU 7   │\n",
        "├──────────┼──────────┤\n",
        "│  TPU 4   │  TPU 5   │\n",
        "└──────────┴──────────┘\n",
        "```\n",
        "\n",
        "\n",
        "This is because 2x2 slice that you will be most probably using is physically layed out in a ring, and aforementioned layout enables most efficient communication.  \n",
        "\n",
        "```\n",
        "TPU 2, TPU 3 -----→ TPU 6, TPU 7\n",
        "    ↑                   |\n",
        "    |                   |\n",
        "    |                   |\n",
        "    |                   ↓\n",
        "TPU 0, TPU 1 ←----- TPU 4, TPU 5\n",
        "```\n",
        "\n",
        "As per device numbers, those can be recovered from TPU coords.\n"
      ],
      "metadata": {
        "id": "ASU6sKOrQWIX"
      }
    }
  ]
}